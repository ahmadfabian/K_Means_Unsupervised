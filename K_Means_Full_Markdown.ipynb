{
 "nbformat": 4,
 "nbformat_minor": 2,
 "metadata": {
  "language_info": {
   "name": "python",
   "codemirror_mode": {
    "name": "ipython",
    "version": 3
   },
   "version": "3.7.4-final"
  },
  "orig_nbformat": 2,
  "file_extension": ".py",
  "mimetype": "text/x-python",
  "name": "python",
  "npconvert_exporter": "python",
  "pygments_lexer": "ipython3",
  "version": 3,
  "kernelspec": {
   "name": "python3",
   "display_name": "Python 3"
  }
 },
 "cells": [
  {
   "cell_type": "code",
   "execution_count": 15,
   "metadata": {},
   "outputs": [],
   "source": [
    "## K-Means Clustering\n",
    "# Import Numpy, Pandas libraries and KMeans, Scaler and Imputer objects from Sklearn\n",
    "import pandas as pd\n",
    "import numpy as np\n",
    "from sklearn.cluster import KMeans\n",
    "from sklearn.impute import SimpleImputer\n",
    "from sklearn.preprocessing import StandardScaler\n",
    "from sklearn.metrics import silhouette_samples, silhouette_score\n",
    "import matplotlib.pyplot as plt\n",
    "from scipy.cluster.hierarchy import linkage, dendrogram\n",
    "from sklearn.cluster import AgglomerativeClustering\n",
    "from sklearn.model_selection import GridSearchCV\n",
    "import matplotlib.pyplot as plt"
   ]
  },
  {
   "cell_type": "code",
   "execution_count": 3,
   "metadata": {},
   "outputs": [
    {
     "data": {
      "text/plain": "(77, 14)"
     },
     "execution_count": 3,
     "metadata": {},
     "output_type": "execute_result"
    }
   ],
   "source": [
    "# Read the Dataframe using read_csv and save it as Pandas dataframe\n",
    "cereals = pd.read_csv('input/Cereals.csv')\n",
    "cereals.shape"
   ]
  },
  {
   "cell_type": "code",
   "execution_count": 4,
   "metadata": {},
   "outputs": [
    {
     "data": {
      "text/html": "<div>\n<style scoped>\n    .dataframe tbody tr th:only-of-type {\n        vertical-align: middle;\n    }\n\n    .dataframe tbody tr th {\n        vertical-align: top;\n    }\n\n    .dataframe thead th {\n        text-align: right;\n    }\n</style>\n<table border=\"1\" class=\"dataframe\">\n  <thead>\n    <tr style=\"text-align: right;\">\n      <th></th>\n      <th>name</th>\n      <th>calories</th>\n      <th>protein</th>\n      <th>fat</th>\n      <th>sodium</th>\n      <th>fiber</th>\n      <th>carbo</th>\n      <th>sugars</th>\n      <th>potass</th>\n      <th>vitamins</th>\n      <th>shelf</th>\n      <th>weight</th>\n      <th>cups</th>\n      <th>rating</th>\n    </tr>\n  </thead>\n  <tbody>\n    <tr>\n      <th>0</th>\n      <td>100%_Bran</td>\n      <td>70</td>\n      <td>4</td>\n      <td>1</td>\n      <td>130</td>\n      <td>10.0</td>\n      <td>5.0</td>\n      <td>6.0</td>\n      <td>280.0</td>\n      <td>25</td>\n      <td>3</td>\n      <td>1.00</td>\n      <td>0.33</td>\n      <td>68.402973</td>\n    </tr>\n    <tr>\n      <th>1</th>\n      <td>100%_Natural_Bran</td>\n      <td>120</td>\n      <td>3</td>\n      <td>5</td>\n      <td>15</td>\n      <td>2.0</td>\n      <td>8.0</td>\n      <td>8.0</td>\n      <td>135.0</td>\n      <td>0</td>\n      <td>3</td>\n      <td>1.00</td>\n      <td>1.00</td>\n      <td>33.983679</td>\n    </tr>\n    <tr>\n      <th>2</th>\n      <td>All-Bran</td>\n      <td>70</td>\n      <td>4</td>\n      <td>1</td>\n      <td>260</td>\n      <td>9.0</td>\n      <td>7.0</td>\n      <td>5.0</td>\n      <td>320.0</td>\n      <td>25</td>\n      <td>3</td>\n      <td>1.00</td>\n      <td>0.33</td>\n      <td>59.425505</td>\n    </tr>\n    <tr>\n      <th>3</th>\n      <td>All-Bran_with_Extra_Fiber</td>\n      <td>50</td>\n      <td>4</td>\n      <td>0</td>\n      <td>140</td>\n      <td>14.0</td>\n      <td>8.0</td>\n      <td>0.0</td>\n      <td>330.0</td>\n      <td>25</td>\n      <td>3</td>\n      <td>1.00</td>\n      <td>0.50</td>\n      <td>93.704912</td>\n    </tr>\n    <tr>\n      <th>4</th>\n      <td>Almond_Delight</td>\n      <td>110</td>\n      <td>2</td>\n      <td>2</td>\n      <td>200</td>\n      <td>1.0</td>\n      <td>14.0</td>\n      <td>8.0</td>\n      <td>NaN</td>\n      <td>25</td>\n      <td>3</td>\n      <td>1.00</td>\n      <td>0.75</td>\n      <td>34.384843</td>\n    </tr>\n    <tr>\n      <th>5</th>\n      <td>Apple_Cinnamon_Cheerios</td>\n      <td>110</td>\n      <td>2</td>\n      <td>2</td>\n      <td>180</td>\n      <td>1.5</td>\n      <td>10.5</td>\n      <td>10.0</td>\n      <td>70.0</td>\n      <td>25</td>\n      <td>1</td>\n      <td>1.00</td>\n      <td>0.75</td>\n      <td>29.509541</td>\n    </tr>\n    <tr>\n      <th>6</th>\n      <td>Apple_Jacks</td>\n      <td>110</td>\n      <td>2</td>\n      <td>0</td>\n      <td>125</td>\n      <td>1.0</td>\n      <td>11.0</td>\n      <td>14.0</td>\n      <td>30.0</td>\n      <td>25</td>\n      <td>2</td>\n      <td>1.00</td>\n      <td>1.00</td>\n      <td>33.174094</td>\n    </tr>\n    <tr>\n      <th>7</th>\n      <td>Basic_4</td>\n      <td>130</td>\n      <td>3</td>\n      <td>2</td>\n      <td>210</td>\n      <td>2.0</td>\n      <td>18.0</td>\n      <td>8.0</td>\n      <td>100.0</td>\n      <td>25</td>\n      <td>3</td>\n      <td>1.33</td>\n      <td>0.75</td>\n      <td>37.038562</td>\n    </tr>\n    <tr>\n      <th>8</th>\n      <td>Bran_Chex</td>\n      <td>90</td>\n      <td>2</td>\n      <td>1</td>\n      <td>200</td>\n      <td>4.0</td>\n      <td>15.0</td>\n      <td>6.0</td>\n      <td>125.0</td>\n      <td>25</td>\n      <td>1</td>\n      <td>1.00</td>\n      <td>0.67</td>\n      <td>49.120253</td>\n    </tr>\n    <tr>\n      <th>9</th>\n      <td>Bran_Flakes</td>\n      <td>90</td>\n      <td>3</td>\n      <td>0</td>\n      <td>210</td>\n      <td>5.0</td>\n      <td>13.0</td>\n      <td>5.0</td>\n      <td>190.0</td>\n      <td>25</td>\n      <td>3</td>\n      <td>1.00</td>\n      <td>0.67</td>\n      <td>53.313813</td>\n    </tr>\n  </tbody>\n</table>\n</div>",
      "text/plain": "                        name  calories  protein  fat  sodium  fiber  carbo  \\\n0                  100%_Bran        70        4    1     130   10.0    5.0   \n1          100%_Natural_Bran       120        3    5      15    2.0    8.0   \n2                   All-Bran        70        4    1     260    9.0    7.0   \n3  All-Bran_with_Extra_Fiber        50        4    0     140   14.0    8.0   \n4             Almond_Delight       110        2    2     200    1.0   14.0   \n5    Apple_Cinnamon_Cheerios       110        2    2     180    1.5   10.5   \n6                Apple_Jacks       110        2    0     125    1.0   11.0   \n7                    Basic_4       130        3    2     210    2.0   18.0   \n8                  Bran_Chex        90        2    1     200    4.0   15.0   \n9                Bran_Flakes        90        3    0     210    5.0   13.0   \n\n   sugars  potass  vitamins  shelf  weight  cups     rating  \n0     6.0   280.0        25      3    1.00  0.33  68.402973  \n1     8.0   135.0         0      3    1.00  1.00  33.983679  \n2     5.0   320.0        25      3    1.00  0.33  59.425505  \n3     0.0   330.0        25      3    1.00  0.50  93.704912  \n4     8.0     NaN        25      3    1.00  0.75  34.384843  \n5    10.0    70.0        25      1    1.00  0.75  29.509541  \n6    14.0    30.0        25      2    1.00  1.00  33.174094  \n7     8.0   100.0        25      3    1.33  0.75  37.038562  \n8     6.0   125.0        25      1    1.00  0.67  49.120253  \n9     5.0   190.0        25      3    1.00  0.67  53.313813  "
     },
     "execution_count": 4,
     "metadata": {},
     "output_type": "execute_result"
    }
   ],
   "source": [
    "# Understand the dimensions and observe the data using head and tail functions\n",
    "cereals.head(10)"
   ]
  },
  {
   "cell_type": "code",
   "execution_count": 5,
   "metadata": {},
   "outputs": [
    {
     "data": {
      "text/html": "<div>\n<style scoped>\n    .dataframe tbody tr th:only-of-type {\n        vertical-align: middle;\n    }\n\n    .dataframe tbody tr th {\n        vertical-align: top;\n    }\n\n    .dataframe thead th {\n        text-align: right;\n    }\n</style>\n<table border=\"1\" class=\"dataframe\">\n  <thead>\n    <tr style=\"text-align: right;\">\n      <th></th>\n      <th>calories</th>\n      <th>protein</th>\n      <th>fat</th>\n      <th>sodium</th>\n      <th>fiber</th>\n      <th>carbo</th>\n      <th>sugars</th>\n      <th>potass</th>\n      <th>vitamins</th>\n      <th>shelf</th>\n      <th>weight</th>\n      <th>cups</th>\n      <th>rating</th>\n    </tr>\n  </thead>\n  <tbody>\n    <tr>\n      <th>count</th>\n      <td>77.000000</td>\n      <td>77.000000</td>\n      <td>77.000000</td>\n      <td>77.000000</td>\n      <td>77.000000</td>\n      <td>76.000000</td>\n      <td>76.000000</td>\n      <td>75.000000</td>\n      <td>77.000000</td>\n      <td>77.000000</td>\n      <td>77.000000</td>\n      <td>77.000000</td>\n      <td>77.000000</td>\n    </tr>\n    <tr>\n      <th>mean</th>\n      <td>106.883117</td>\n      <td>2.545455</td>\n      <td>1.012987</td>\n      <td>159.675325</td>\n      <td>2.151948</td>\n      <td>14.802632</td>\n      <td>7.026316</td>\n      <td>98.666667</td>\n      <td>28.246753</td>\n      <td>2.207792</td>\n      <td>1.029610</td>\n      <td>0.821039</td>\n      <td>42.665705</td>\n    </tr>\n    <tr>\n      <th>std</th>\n      <td>19.484119</td>\n      <td>1.094790</td>\n      <td>1.006473</td>\n      <td>83.832295</td>\n      <td>2.383364</td>\n      <td>3.907326</td>\n      <td>4.378656</td>\n      <td>70.410636</td>\n      <td>22.342523</td>\n      <td>0.832524</td>\n      <td>0.150477</td>\n      <td>0.232716</td>\n      <td>14.047289</td>\n    </tr>\n    <tr>\n      <th>min</th>\n      <td>50.000000</td>\n      <td>1.000000</td>\n      <td>0.000000</td>\n      <td>0.000000</td>\n      <td>0.000000</td>\n      <td>5.000000</td>\n      <td>0.000000</td>\n      <td>15.000000</td>\n      <td>0.000000</td>\n      <td>1.000000</td>\n      <td>0.500000</td>\n      <td>0.250000</td>\n      <td>18.042851</td>\n    </tr>\n    <tr>\n      <th>25%</th>\n      <td>100.000000</td>\n      <td>2.000000</td>\n      <td>0.000000</td>\n      <td>130.000000</td>\n      <td>1.000000</td>\n      <td>12.000000</td>\n      <td>3.000000</td>\n      <td>42.500000</td>\n      <td>25.000000</td>\n      <td>1.000000</td>\n      <td>1.000000</td>\n      <td>0.670000</td>\n      <td>33.174094</td>\n    </tr>\n    <tr>\n      <th>50%</th>\n      <td>110.000000</td>\n      <td>3.000000</td>\n      <td>1.000000</td>\n      <td>180.000000</td>\n      <td>2.000000</td>\n      <td>14.500000</td>\n      <td>7.000000</td>\n      <td>90.000000</td>\n      <td>25.000000</td>\n      <td>2.000000</td>\n      <td>1.000000</td>\n      <td>0.750000</td>\n      <td>40.400208</td>\n    </tr>\n    <tr>\n      <th>75%</th>\n      <td>110.000000</td>\n      <td>3.000000</td>\n      <td>2.000000</td>\n      <td>210.000000</td>\n      <td>3.000000</td>\n      <td>17.000000</td>\n      <td>11.000000</td>\n      <td>120.000000</td>\n      <td>25.000000</td>\n      <td>3.000000</td>\n      <td>1.000000</td>\n      <td>1.000000</td>\n      <td>50.828392</td>\n    </tr>\n    <tr>\n      <th>max</th>\n      <td>160.000000</td>\n      <td>6.000000</td>\n      <td>5.000000</td>\n      <td>320.000000</td>\n      <td>14.000000</td>\n      <td>23.000000</td>\n      <td>15.000000</td>\n      <td>330.000000</td>\n      <td>100.000000</td>\n      <td>3.000000</td>\n      <td>1.500000</td>\n      <td>1.500000</td>\n      <td>93.704912</td>\n    </tr>\n  </tbody>\n</table>\n</div>",
      "text/plain": "         calories    protein        fat      sodium      fiber      carbo  \\\ncount   77.000000  77.000000  77.000000   77.000000  77.000000  76.000000   \nmean   106.883117   2.545455   1.012987  159.675325   2.151948  14.802632   \nstd     19.484119   1.094790   1.006473   83.832295   2.383364   3.907326   \nmin     50.000000   1.000000   0.000000    0.000000   0.000000   5.000000   \n25%    100.000000   2.000000   0.000000  130.000000   1.000000  12.000000   \n50%    110.000000   3.000000   1.000000  180.000000   2.000000  14.500000   \n75%    110.000000   3.000000   2.000000  210.000000   3.000000  17.000000   \nmax    160.000000   6.000000   5.000000  320.000000  14.000000  23.000000   \n\n          sugars      potass    vitamins      shelf     weight       cups  \\\ncount  76.000000   75.000000   77.000000  77.000000  77.000000  77.000000   \nmean    7.026316   98.666667   28.246753   2.207792   1.029610   0.821039   \nstd     4.378656   70.410636   22.342523   0.832524   0.150477   0.232716   \nmin     0.000000   15.000000    0.000000   1.000000   0.500000   0.250000   \n25%     3.000000   42.500000   25.000000   1.000000   1.000000   0.670000   \n50%     7.000000   90.000000   25.000000   2.000000   1.000000   0.750000   \n75%    11.000000  120.000000   25.000000   3.000000   1.000000   1.000000   \nmax    15.000000  330.000000  100.000000   3.000000   1.500000   1.500000   \n\n          rating  \ncount  77.000000  \nmean   42.665705  \nstd    14.047289  \nmin    18.042851  \n25%    33.174094  \n50%    40.400208  \n75%    50.828392  \nmax    93.704912  "
     },
     "execution_count": 5,
     "metadata": {},
     "output_type": "execute_result"
    }
   ],
   "source": [
    "cereals.describe()"
   ]
  },
  {
   "cell_type": "code",
   "execution_count": 6,
   "metadata": {},
   "outputs": [
    {
     "data": {
      "text/html": "<div>\n<style scoped>\n    .dataframe tbody tr th:only-of-type {\n        vertical-align: middle;\n    }\n\n    .dataframe tbody tr th {\n        vertical-align: top;\n    }\n\n    .dataframe thead th {\n        text-align: right;\n    }\n</style>\n<table border=\"1\" class=\"dataframe\">\n  <thead>\n    <tr style=\"text-align: right;\">\n      <th></th>\n      <th>name</th>\n    </tr>\n  </thead>\n  <tbody>\n    <tr>\n      <th>count</th>\n      <td>77</td>\n    </tr>\n    <tr>\n      <th>unique</th>\n      <td>77</td>\n    </tr>\n    <tr>\n      <th>top</th>\n      <td>Triples</td>\n    </tr>\n    <tr>\n      <th>freq</th>\n      <td>1</td>\n    </tr>\n  </tbody>\n</table>\n</div>",
      "text/plain": "           name\ncount        77\nunique       77\ntop     Triples\nfreq          1"
     },
     "execution_count": 6,
     "metadata": {},
     "output_type": "execute_result"
    }
   ],
   "source": [
    "cereals.describe(include='object')"
   ]
  },
  {
   "cell_type": "code",
   "execution_count": 7,
   "metadata": {},
   "outputs": [
    {
     "name": "stdout",
     "output_type": "stream",
     "text": "<class 'pandas.core.frame.DataFrame'>\nRangeIndex: 77 entries, 0 to 76\nData columns (total 14 columns):\n #   Column    Non-Null Count  Dtype  \n---  ------    --------------  -----  \n 0   name      77 non-null     object \n 1   calories  77 non-null     int64  \n 2   protein   77 non-null     int64  \n 3   fat       77 non-null     int64  \n 4   sodium    77 non-null     int64  \n 5   fiber     77 non-null     float64\n 6   carbo     76 non-null     float64\n 7   sugars    76 non-null     float64\n 8   potass    75 non-null     float64\n 9   vitamins  77 non-null     int64  \n 10  shelf     77 non-null     int64  \n 11  weight    77 non-null     float64\n 12  cups      77 non-null     float64\n 13  rating    77 non-null     float64\ndtypes: float64(7), int64(6), object(1)\nmemory usage: 8.5+ KB\n"
    }
   ],
   "source": [
    "cereals.info()"
   ]
  },
  {
   "cell_type": "code",
   "execution_count": 8,
   "metadata": {},
   "outputs": [
    {
     "data": {
      "text/html": "<div>\n<style scoped>\n    .dataframe tbody tr th:only-of-type {\n        vertical-align: middle;\n    }\n\n    .dataframe tbody tr th {\n        vertical-align: top;\n    }\n\n    .dataframe thead th {\n        text-align: right;\n    }\n</style>\n<table border=\"1\" class=\"dataframe\">\n  <thead>\n    <tr style=\"text-align: right;\">\n      <th></th>\n      <th>calories</th>\n      <th>protein</th>\n      <th>fat</th>\n      <th>sodium</th>\n      <th>fiber</th>\n      <th>carbo</th>\n      <th>sugars</th>\n      <th>potass</th>\n      <th>vitamins</th>\n      <th>weight</th>\n      <th>cups</th>\n      <th>label</th>\n    </tr>\n  </thead>\n  <tbody>\n    <tr>\n      <th>0</th>\n      <td>70</td>\n      <td>4</td>\n      <td>1</td>\n      <td>130</td>\n      <td>10.0</td>\n      <td>5.0</td>\n      <td>6.0</td>\n      <td>280.0</td>\n      <td>25</td>\n      <td>1.0</td>\n      <td>0.33</td>\n      <td>100%_Bran (3 - 68.4)</td>\n    </tr>\n  </tbody>\n</table>\n</div>",
      "text/plain": "   calories  protein  fat  sodium  fiber  carbo  sugars  potass  vitamins  \\\n0        70        4    1     130   10.0    5.0     6.0   280.0        25   \n\n   weight  cups                 label  \n0     1.0  0.33  100%_Bran (3 - 68.4)  "
     },
     "execution_count": 8,
     "metadata": {},
     "output_type": "execute_result"
    }
   ],
   "source": [
    "# Aggregate the columns ‘name’ shelf’ and ‘rating’ into one single column and name is as ‘label’.\n",
    "# 100%_Bran (3 - 68.4)\n",
    "cereals['label'] = cereals['name'] + ' (' + cereals['shelf'].astype(str) + ' - ' + round(cereals['rating'], 2).astype(str) +')'\n",
    "cereals.drop(['name', 'shelf', 'rating'], axis=1, inplace=True)\n",
    "cereals.head(1)"
   ]
  },
  {
   "cell_type": "code",
   "execution_count": 9,
   "metadata": {},
   "outputs": [
    {
     "name": "stdout",
     "output_type": "stream",
     "text": "unique values:  77\n"
    },
    {
     "data": {
      "text/plain": "<bound method IndexOpsMixin.value_counts of 0                     100%_Bran (3 - 68.4)\n1            100%_Natural_Bran (3 - 33.98)\n2                     All-Bran (3 - 59.43)\n3     All-Bran_with_Extra_Fiber (3 - 93.7)\n4               Almond_Delight (3 - 34.38)\n                      ...                 \n72                     Triples (3 - 39.11)\n73                        Trix (2 - 27.75)\n74                  Wheat_Chex (1 - 49.79)\n75                    Wheaties (1 - 51.59)\n76         Wheaties_Honey_Gold (1 - 36.19)\nName: label, Length: 77, dtype: object>"
     },
     "execution_count": 9,
     "metadata": {},
     "output_type": "execute_result"
    }
   ],
   "source": [
    "# To ensure the newly created label field is unique across along the dataframe, use the value_counts method. (this is one way, there can be a better way).\n",
    "print('unique values: ',cereals['label'].nunique())\n",
    "cereals['label'].value_counts"
   ]
  },
  {
   "cell_type": "code",
   "execution_count": 10,
   "metadata": {},
   "outputs": [
    {
     "data": {
      "text/html": "<div>\n<style scoped>\n    .dataframe tbody tr th:only-of-type {\n        vertical-align: middle;\n    }\n\n    .dataframe tbody tr th {\n        vertical-align: top;\n    }\n\n    .dataframe thead th {\n        text-align: right;\n    }\n</style>\n<table border=\"1\" class=\"dataframe\">\n  <thead>\n    <tr style=\"text-align: right;\">\n      <th></th>\n      <th>calories</th>\n      <th>protein</th>\n      <th>fat</th>\n      <th>sodium</th>\n      <th>fiber</th>\n      <th>carbo</th>\n      <th>sugars</th>\n      <th>potass</th>\n      <th>vitamins</th>\n      <th>weight</th>\n      <th>cups</th>\n    </tr>\n  </thead>\n  <tbody>\n    <tr>\n      <th>0</th>\n      <td>70</td>\n      <td>4</td>\n      <td>1</td>\n      <td>130</td>\n      <td>10.0</td>\n      <td>5.0</td>\n      <td>6.0</td>\n      <td>280.0</td>\n      <td>25</td>\n      <td>1.0</td>\n      <td>0.33</td>\n    </tr>\n  </tbody>\n</table>\n</div>",
      "text/plain": "   calories  protein  fat  sodium  fiber  carbo  sugars  potass  vitamins  \\\n0        70        4    1     130   10.0    5.0     6.0   280.0        25   \n\n   weight  cups  \n0     1.0  0.33  "
     },
     "execution_count": 10,
     "metadata": {},
     "output_type": "execute_result"
    }
   ],
   "source": [
    "# To continue with clustering, remove the ‘label’ column and save it separately\n",
    "cereals_label = cereals['label']\n",
    "cereals.drop(['label'], axis=1, inplace=True)\n",
    "cereals.head(1)"
   ]
  },
  {
   "cell_type": "code",
   "execution_count": 11,
   "metadata": {},
   "outputs": [
    {
     "data": {
      "text/plain": "calories    0\nprotein     0\nfat         0\nsodium      0\nfiber       0\ncarbo       1\nsugars      1\npotass      2\nvitamins    0\nweight      0\ncups        0\ndtype: int64"
     },
     "execution_count": 11,
     "metadata": {},
     "output_type": "execute_result"
    }
   ],
   "source": [
    "# Check the null values in each of the columns\n",
    "cereals.isnull().sum()"
   ]
  },
  {
   "cell_type": "code",
   "execution_count": 12,
   "metadata": {},
   "outputs": [
    {
     "data": {
      "text/html": "<div>\n<style scoped>\n    .dataframe tbody tr th:only-of-type {\n        vertical-align: middle;\n    }\n\n    .dataframe tbody tr th {\n        vertical-align: top;\n    }\n\n    .dataframe thead th {\n        text-align: right;\n    }\n</style>\n<table border=\"1\" class=\"dataframe\">\n  <thead>\n    <tr style=\"text-align: right;\">\n      <th></th>\n      <th>calories</th>\n      <th>protein</th>\n      <th>fat</th>\n      <th>sodium</th>\n      <th>fiber</th>\n      <th>carbo</th>\n      <th>sugars</th>\n      <th>potass</th>\n      <th>vitamins</th>\n      <th>weight</th>\n      <th>cups</th>\n    </tr>\n  </thead>\n  <tbody>\n    <tr>\n      <th>0</th>\n      <td>70.0</td>\n      <td>4.0</td>\n      <td>1.0</td>\n      <td>130.0</td>\n      <td>10.0</td>\n      <td>5.0</td>\n      <td>6.0</td>\n      <td>280.000000</td>\n      <td>25.0</td>\n      <td>1.0</td>\n      <td>0.33</td>\n    </tr>\n    <tr>\n      <th>1</th>\n      <td>120.0</td>\n      <td>3.0</td>\n      <td>5.0</td>\n      <td>15.0</td>\n      <td>2.0</td>\n      <td>8.0</td>\n      <td>8.0</td>\n      <td>135.000000</td>\n      <td>0.0</td>\n      <td>1.0</td>\n      <td>1.00</td>\n    </tr>\n    <tr>\n      <th>2</th>\n      <td>70.0</td>\n      <td>4.0</td>\n      <td>1.0</td>\n      <td>260.0</td>\n      <td>9.0</td>\n      <td>7.0</td>\n      <td>5.0</td>\n      <td>320.000000</td>\n      <td>25.0</td>\n      <td>1.0</td>\n      <td>0.33</td>\n    </tr>\n    <tr>\n      <th>3</th>\n      <td>50.0</td>\n      <td>4.0</td>\n      <td>0.0</td>\n      <td>140.0</td>\n      <td>14.0</td>\n      <td>8.0</td>\n      <td>0.0</td>\n      <td>330.000000</td>\n      <td>25.0</td>\n      <td>1.0</td>\n      <td>0.50</td>\n    </tr>\n    <tr>\n      <th>4</th>\n      <td>110.0</td>\n      <td>2.0</td>\n      <td>2.0</td>\n      <td>200.0</td>\n      <td>1.0</td>\n      <td>14.0</td>\n      <td>8.0</td>\n      <td>98.666667</td>\n      <td>25.0</td>\n      <td>1.0</td>\n      <td>0.75</td>\n    </tr>\n  </tbody>\n</table>\n</div>",
      "text/plain": "   calories  protein  fat  sodium  fiber  carbo  sugars      potass  vitamins  \\\n0      70.0      4.0  1.0   130.0   10.0    5.0     6.0  280.000000      25.0   \n1     120.0      3.0  5.0    15.0    2.0    8.0     8.0  135.000000       0.0   \n2      70.0      4.0  1.0   260.0    9.0    7.0     5.0  320.000000      25.0   \n3      50.0      4.0  0.0   140.0   14.0    8.0     0.0  330.000000      25.0   \n4     110.0      2.0  2.0   200.0    1.0   14.0     8.0   98.666667      25.0   \n\n   weight  cups  \n0     1.0  0.33  \n1     1.0  1.00  \n2     1.0  0.33  \n3     1.0  0.50  \n4     1.0  0.75  "
     },
     "execution_count": 12,
     "metadata": {},
     "output_type": "execute_result"
    }
   ],
   "source": [
    "# To ‘Impute’ the null values, initialize the ‘Imputer’ object with ‘mean’ as the imputation\n",
    "# strategy. Then, use the Imputer object to impute the null values on the data frame\n",
    "# from sklearn.impute import SimpleImputer # already imported in the import section\n",
    "na_imputer = SimpleImputer(verbose=5)\n",
    "na_imputer.fit(cereals)\n",
    "cereals = pd.DataFrame(na_imputer.transform(cereals), columns=cereals.columns, index=cereals.index)\n",
    "cereals.head()\n"
   ]
  },
  {
   "cell_type": "code",
   "execution_count": 13,
   "metadata": {},
   "outputs": [
    {
     "data": {
      "text/plain": "calories    0\nprotein     0\nfat         0\nsodium      0\nfiber       0\ncarbo       0\nsugars      0\npotass      0\nvitamins    0\nweight      0\ncups        0\ndtype: int64"
     },
     "execution_count": 13,
     "metadata": {},
     "output_type": "execute_result"
    }
   ],
   "source": [
    "# Check the null values again.\n",
    "cereals.isna().sum()"
   ]
  },
  {
   "cell_type": "code",
   "execution_count": 14,
   "metadata": {},
   "outputs": [
    {
     "data": {
      "text/html": "<div>\n<style scoped>\n    .dataframe tbody tr th:only-of-type {\n        vertical-align: middle;\n    }\n\n    .dataframe tbody tr th {\n        vertical-align: top;\n    }\n\n    .dataframe thead th {\n        text-align: right;\n    }\n</style>\n<table border=\"1\" class=\"dataframe\">\n  <thead>\n    <tr style=\"text-align: right;\">\n      <th></th>\n      <th>calories</th>\n      <th>protein</th>\n      <th>fat</th>\n      <th>sodium</th>\n      <th>fiber</th>\n      <th>carbo</th>\n      <th>sugars</th>\n      <th>potass</th>\n      <th>vitamins</th>\n      <th>weight</th>\n      <th>cups</th>\n    </tr>\n  </thead>\n  <tbody>\n    <tr>\n      <th>0</th>\n      <td>-1.905397</td>\n      <td>1.337319</td>\n      <td>-0.012988</td>\n      <td>-0.356306</td>\n      <td>3.314439</td>\n      <td>-2.542013</td>\n      <td>-0.237495</td>\n      <td>2.627053</td>\n      <td>-0.14627</td>\n      <td>-0.198067</td>\n      <td>-2.123870</td>\n    </tr>\n    <tr>\n      <th>1</th>\n      <td>0.677623</td>\n      <td>0.417912</td>\n      <td>3.987349</td>\n      <td>-1.737087</td>\n      <td>-0.064172</td>\n      <td>-1.764055</td>\n      <td>0.225316</td>\n      <td>0.526376</td>\n      <td>-1.27255</td>\n      <td>-0.198067</td>\n      <td>0.774053</td>\n    </tr>\n    <tr>\n      <th>2</th>\n      <td>-1.905397</td>\n      <td>1.337319</td>\n      <td>-0.012988</td>\n      <td>1.204578</td>\n      <td>2.892113</td>\n      <td>-2.023374</td>\n      <td>-0.468901</td>\n      <td>3.206550</td>\n      <td>-0.14627</td>\n      <td>-0.198067</td>\n      <td>-2.123870</td>\n    </tr>\n    <tr>\n      <th>3</th>\n      <td>-2.938605</td>\n      <td>1.337319</td>\n      <td>-1.013072</td>\n      <td>-0.236238</td>\n      <td>5.003745</td>\n      <td>-1.764055</td>\n      <td>-1.625929</td>\n      <td>3.351425</td>\n      <td>-0.14627</td>\n      <td>-0.198067</td>\n      <td>-1.388576</td>\n    </tr>\n    <tr>\n      <th>4</th>\n      <td>0.161019</td>\n      <td>-0.501495</td>\n      <td>0.987096</td>\n      <td>0.484170</td>\n      <td>-0.486498</td>\n      <td>-0.208138</td>\n      <td>0.225316</td>\n      <td>0.000000</td>\n      <td>-0.14627</td>\n      <td>-0.198067</td>\n      <td>-0.307262</td>\n    </tr>\n  </tbody>\n</table>\n</div>",
      "text/plain": "   calories   protein       fat    sodium     fiber     carbo    sugars  \\\n0 -1.905397  1.337319 -0.012988 -0.356306  3.314439 -2.542013 -0.237495   \n1  0.677623  0.417912  3.987349 -1.737087 -0.064172 -1.764055  0.225316   \n2 -1.905397  1.337319 -0.012988  1.204578  2.892113 -2.023374 -0.468901   \n3 -2.938605  1.337319 -1.013072 -0.236238  5.003745 -1.764055 -1.625929   \n4  0.161019 -0.501495  0.987096  0.484170 -0.486498 -0.208138  0.225316   \n\n     potass  vitamins    weight      cups  \n0  2.627053  -0.14627 -0.198067 -2.123870  \n1  0.526376  -1.27255 -0.198067  0.774053  \n2  3.206550  -0.14627 -0.198067 -2.123870  \n3  3.351425  -0.14627 -0.198067 -1.388576  \n4  0.000000  -0.14627 -0.198067 -0.307262  "
     },
     "execution_count": 14,
     "metadata": {},
     "output_type": "execute_result"
    }
   ],
   "source": [
    "# Standardize the data : Since clustering is based on distance between the elements, data is very sensitive to scale.\n",
    "# from sklearn.preprocessing import StandardScaler\n",
    "scaler = StandardScaler()\n",
    "scaler.fit(cereals)\n",
    "scaled_data = pd.DataFrame(scaler.transform(cereals), columns=cereals.columns, index=cereals.index)\n",
    "scaled_data.head()"
   ]
  },
  {
   "cell_type": "code",
   "execution_count": 69,
   "metadata": {},
   "outputs": [
    {
     "name": "stdout",
     "output_type": "stream",
     "text": "Fitting 5 folds for each of 8 candidates, totalling 40 fits\n[Parallel(n_jobs=-1)]: Using backend LokyBackend with 12 concurrent workers.\n[Parallel(n_jobs=-1)]: Done   1 tasks      | elapsed:    0.0s\n[Parallel(n_jobs=-1)]: Batch computation too fast (0.0252s.) Setting batch_size=2.\n[Parallel(n_jobs=-1)]: Done   8 tasks      | elapsed:    0.1s\n[Parallel(n_jobs=-1)]: Done  17 tasks      | elapsed:    0.1s\n[Parallel(n_jobs=-1)]: Done  22 out of  40 | elapsed:    0.1s remaining:    0.1s\n[Parallel(n_jobs=-1)]: Done  27 out of  40 | elapsed:    0.2s remaining:    0.1s\n[Parallel(n_jobs=-1)]: Done  32 out of  40 | elapsed:    0.2s remaining:    0.0s\n[Parallel(n_jobs=-1)]: Done  37 out of  40 | elapsed:    0.2s remaining:    0.0s\n[Parallel(n_jobs=-1)]: Done  40 out of  40 | elapsed:    0.2s finished\n"
    },
    {
     "data": {
      "text/plain": "GridSearchCV(cv=None, error_score=nan,\n             estimator=KMeans(algorithm='auto', copy_x=True, init='k-means++',\n                              max_iter=300, n_clusters=8, n_init=10,\n                              n_jobs=None, precompute_distances='auto',\n                              random_state=None, tol=0.0001, verbose=0),\n             iid='deprecated', n_jobs=-1,\n             param_grid={'n_clusters': [2, 3, 4, 5, 6, 7, 8, 9]},\n             pre_dispatch='2*n_jobs', refit=True, return_train_score=False,\n             scoring=None, verbose=10)"
     },
     "execution_count": 69,
     "metadata": {},
     "output_type": "execute_result"
    }
   ],
   "source": [
    "grid_search = GridSearchCV(estimator=KMeans(), param_grid={'n_clusters':list(range(2,10))}, verbose=10, n_jobs=-1)\n",
    "# estimator = Algo\n",
    "# param_grid = dict of parameter settings to try as values\n",
    "# verbose = logger level\n",
    "# n_jobs = number of processors to use in parallel; -1 to unleash all your processors\n",
    "grid_search.fit(scaled_data)\n"
   ]
  },
  {
   "cell_type": "code",
   "execution_count": 70,
   "metadata": {},
   "outputs": [
    {
     "data": {
      "text/plain": "KMeans(algorithm='auto', copy_x=True, init='k-means++', max_iter=300,\n       n_clusters=9, n_init=10, n_jobs=None, precompute_distances='auto',\n       random_state=None, tol=0.0001, verbose=0)"
     },
     "execution_count": 70,
     "metadata": {},
     "output_type": "execute_result"
    }
   ],
   "source": [
    "grid_search.best_estimator_"
   ]
  },
  {
   "cell_type": "code",
   "execution_count": 71,
   "metadata": {},
   "outputs": [
    {
     "data": {
      "text/html": "<div>\n<style scoped>\n    .dataframe tbody tr th:only-of-type {\n        vertical-align: middle;\n    }\n\n    .dataframe tbody tr th {\n        vertical-align: top;\n    }\n\n    .dataframe thead th {\n        text-align: right;\n    }\n</style>\n<table border=\"1\" class=\"dataframe\">\n  <thead>\n    <tr style=\"text-align: right;\">\n      <th></th>\n      <th>calories</th>\n      <th>protein</th>\n      <th>fat</th>\n      <th>sodium</th>\n      <th>fiber</th>\n      <th>carbo</th>\n      <th>sugars</th>\n      <th>potass</th>\n      <th>vitamins</th>\n      <th>weight</th>\n      <th>cups</th>\n      <th>cluster_id</th>\n      <th>Category</th>\n    </tr>\n  </thead>\n  <tbody>\n    <tr>\n      <th>0</th>\n      <td>70.0</td>\n      <td>4.0</td>\n      <td>1.0</td>\n      <td>130.0</td>\n      <td>10.0</td>\n      <td>5.0</td>\n      <td>6.0</td>\n      <td>280.000000</td>\n      <td>25.0</td>\n      <td>1.0</td>\n      <td>0.33</td>\n      <td>6</td>\n      <td>5</td>\n    </tr>\n    <tr>\n      <th>1</th>\n      <td>120.0</td>\n      <td>3.0</td>\n      <td>5.0</td>\n      <td>15.0</td>\n      <td>2.0</td>\n      <td>8.0</td>\n      <td>8.0</td>\n      <td>135.000000</td>\n      <td>0.0</td>\n      <td>1.0</td>\n      <td>1.00</td>\n      <td>7</td>\n      <td>2</td>\n    </tr>\n    <tr>\n      <th>2</th>\n      <td>70.0</td>\n      <td>4.0</td>\n      <td>1.0</td>\n      <td>260.0</td>\n      <td>9.0</td>\n      <td>7.0</td>\n      <td>5.0</td>\n      <td>320.000000</td>\n      <td>25.0</td>\n      <td>1.0</td>\n      <td>0.33</td>\n      <td>6</td>\n      <td>5</td>\n    </tr>\n    <tr>\n      <th>3</th>\n      <td>50.0</td>\n      <td>4.0</td>\n      <td>0.0</td>\n      <td>140.0</td>\n      <td>14.0</td>\n      <td>8.0</td>\n      <td>0.0</td>\n      <td>330.000000</td>\n      <td>25.0</td>\n      <td>1.0</td>\n      <td>0.50</td>\n      <td>6</td>\n      <td>5</td>\n    </tr>\n    <tr>\n      <th>4</th>\n      <td>110.0</td>\n      <td>2.0</td>\n      <td>2.0</td>\n      <td>200.0</td>\n      <td>1.0</td>\n      <td>14.0</td>\n      <td>8.0</td>\n      <td>98.666667</td>\n      <td>25.0</td>\n      <td>1.0</td>\n      <td>0.75</td>\n      <td>9</td>\n      <td>3</td>\n    </tr>\n    <tr>\n      <th>...</th>\n      <td>...</td>\n      <td>...</td>\n      <td>...</td>\n      <td>...</td>\n      <td>...</td>\n      <td>...</td>\n      <td>...</td>\n      <td>...</td>\n      <td>...</td>\n      <td>...</td>\n      <td>...</td>\n      <td>...</td>\n      <td>...</td>\n    </tr>\n    <tr>\n      <th>72</th>\n      <td>110.0</td>\n      <td>2.0</td>\n      <td>1.0</td>\n      <td>250.0</td>\n      <td>0.0</td>\n      <td>21.0</td>\n      <td>3.0</td>\n      <td>60.000000</td>\n      <td>25.0</td>\n      <td>1.0</td>\n      <td>0.75</td>\n      <td>1</td>\n      <td>1</td>\n    </tr>\n    <tr>\n      <th>73</th>\n      <td>110.0</td>\n      <td>1.0</td>\n      <td>1.0</td>\n      <td>140.0</td>\n      <td>0.0</td>\n      <td>13.0</td>\n      <td>12.0</td>\n      <td>25.000000</td>\n      <td>25.0</td>\n      <td>1.0</td>\n      <td>1.00</td>\n      <td>4</td>\n      <td>3</td>\n    </tr>\n    <tr>\n      <th>74</th>\n      <td>100.0</td>\n      <td>3.0</td>\n      <td>1.0</td>\n      <td>230.0</td>\n      <td>3.0</td>\n      <td>17.0</td>\n      <td>3.0</td>\n      <td>115.000000</td>\n      <td>25.0</td>\n      <td>1.0</td>\n      <td>0.67</td>\n      <td>10</td>\n      <td>0</td>\n    </tr>\n    <tr>\n      <th>75</th>\n      <td>100.0</td>\n      <td>3.0</td>\n      <td>1.0</td>\n      <td>200.0</td>\n      <td>3.0</td>\n      <td>17.0</td>\n      <td>3.0</td>\n      <td>110.000000</td>\n      <td>25.0</td>\n      <td>1.0</td>\n      <td>1.00</td>\n      <td>10</td>\n      <td>1</td>\n    </tr>\n    <tr>\n      <th>76</th>\n      <td>110.0</td>\n      <td>2.0</td>\n      <td>1.0</td>\n      <td>200.0</td>\n      <td>1.0</td>\n      <td>16.0</td>\n      <td>8.0</td>\n      <td>60.000000</td>\n      <td>25.0</td>\n      <td>1.0</td>\n      <td>0.75</td>\n      <td>9</td>\n      <td>3</td>\n    </tr>\n  </tbody>\n</table>\n<p>77 rows × 13 columns</p>\n</div>",
      "text/plain": "    calories  protein  fat  sodium  fiber  carbo  sugars      potass  \\\n0       70.0      4.0  1.0   130.0   10.0    5.0     6.0  280.000000   \n1      120.0      3.0  5.0    15.0    2.0    8.0     8.0  135.000000   \n2       70.0      4.0  1.0   260.0    9.0    7.0     5.0  320.000000   \n3       50.0      4.0  0.0   140.0   14.0    8.0     0.0  330.000000   \n4      110.0      2.0  2.0   200.0    1.0   14.0     8.0   98.666667   \n..       ...      ...  ...     ...    ...    ...     ...         ...   \n72     110.0      2.0  1.0   250.0    0.0   21.0     3.0   60.000000   \n73     110.0      1.0  1.0   140.0    0.0   13.0    12.0   25.000000   \n74     100.0      3.0  1.0   230.0    3.0   17.0     3.0  115.000000   \n75     100.0      3.0  1.0   200.0    3.0   17.0     3.0  110.000000   \n76     110.0      2.0  1.0   200.0    1.0   16.0     8.0   60.000000   \n\n    vitamins  weight  cups  cluster_id  Category  \n0       25.0     1.0  0.33           6         5  \n1        0.0     1.0  1.00           7         2  \n2       25.0     1.0  0.33           6         5  \n3       25.0     1.0  0.50           6         5  \n4       25.0     1.0  0.75           9         3  \n..       ...     ...   ...         ...       ...  \n72      25.0     1.0  0.75           1         1  \n73      25.0     1.0  1.00           4         3  \n74      25.0     1.0  0.67          10         0  \n75      25.0     1.0  1.00          10         1  \n76      25.0     1.0  0.75           9         3  \n\n[77 rows x 13 columns]"
     },
     "execution_count": 71,
     "metadata": {},
     "output_type": "execute_result"
    }
   ],
   "source": [
    "cereals['Category'] = grid_search.predict(scaled_data)\n",
    "cereals"
   ]
  },
  {
   "cell_type": "code",
   "execution_count": 72,
   "metadata": {},
   "outputs": [
    {
     "data": {
      "text/plain": "array([[-0.63110674,  0.17273709, -0.74638329, -0.79255263,  0.24553433,\n         0.46609263, -0.85457683,  0.13875735, -0.44661146, -0.2738775 ,\n        -0.22652371],\n       [ 0.05769863,  0.23403089, -0.51303028,  1.14454414, -0.57096331,\n         1.3737108 , -1.02427427, -0.66883617, -0.14627013, -0.19806746,\n         1.04654403],\n       [ 0.03186843,  0.87761585,  1.4871384 , -0.72401383,  0.15754967,\n        -0.7493821 , -0.09210552,  0.30001045, -0.42784013, -0.19806746,\n        -1.02633609],\n       [ 0.18348048, -0.90123698,  0.03049382,  0.15006803, -0.63339417,\n        -0.56893031,  0.93965501, -0.68384851, -0.14627013, -0.19806746,\n         0.23433571],\n       [ 0.88426508,  0.41791231, -0.01298811,  0.48417024,  1.20280744,\n        -0.41559358,  1.24350063,  1.81575741,  0.52949787,  2.12974647,\n        -0.29861135],\n       [-2.24979938,  1.33731939, -0.34634956,  0.20401161,  3.73676565,\n        -2.10981415, -0.77744163,  3.06167606, -0.14627013, -0.19806746,\n        -1.87877244],\n       [ 0.26434025,  0.05014948, -0.21300498,  0.62825181, -0.31756749,\n         1.03659548, -0.51518194, -0.42979364,  3.23256986,  0.20327977,\n         0.55778983],\n       [ 1.88303288,  0.72438134,  1.32045768,  0.07393797,  0.18218538,\n         0.54821047,  0.68812718,  0.62295933, -0.14627013,  1.37387586,\n        -0.24238299],\n       [-2.93860476, -0.96119831, -1.01307245, -1.91718939, -0.69766122,\n        -0.85643669, -1.62592883, -0.9585847 , -1.27255013, -3.54262772,\n         0.77405275]])"
     },
     "execution_count": 72,
     "metadata": {},
     "output_type": "execute_result"
    }
   ],
   "source": [
    "grid_search.best_estimator_.cluster_centers_"
   ]
  },
  {
   "cell_type": "code",
   "execution_count": 73,
   "metadata": {},
   "outputs": [
    {
     "data": {
      "text/plain": "array([5, 2, 5, 5, 3, 3, 3, 7, 0, 0, 3, 1, 3, 2, 3, 1, 1, 3, 3, 2, 0, 1,\n       3, 0, 3, 3, 0, 4, 4, 3, 3, 3, 0, 0, 2, 3, 3, 3, 6, 6, 1, 2, 3, 0,\n       7, 7, 7, 3, 3, 7, 0, 7, 4, 6, 8, 8, 2, 2, 4, 2, 0, 1, 1, 0, 0, 0,\n       3, 1, 0, 6, 4, 6, 1, 3, 0, 1, 3], dtype=int32)"
     },
     "execution_count": 73,
     "metadata": {},
     "output_type": "execute_result"
    }
   ],
   "source": [
    "grid_search.best_estimator_.labels_"
   ]
  },
  {
   "cell_type": "code",
   "execution_count": 74,
   "metadata": {},
   "outputs": [
    {
     "data": {
      "text/plain": "257.4088031286972"
     },
     "execution_count": 74,
     "metadata": {},
     "output_type": "execute_result"
    }
   ],
   "source": [
    "grid_search.best_estimator_.inertia_"
   ]
  },
  {
   "cell_type": "code",
   "execution_count": null,
   "metadata": {},
   "outputs": [],
   "source": [
    "wss= {}\n",
    "for k in range(2, 21):\n",
    "    kmeans_loop = KMeans(n_clusters=k,n_init=30,n_jobs=-1,random_state=1000,verbose=0).fit(scaled_cereals)\n",
    "    clusters = kmeans_loop.labels_\n",
    "    labels = kmeans_loop.predict(scaled_cereals)\n",
    "    print('silhouette_score(scaled_cereals, labels):', silhouette_score(scaled_cereals, labels))\n",
    "    wss[k] = kmeans_loop.inertia_"
   ]
  }
 ]
}