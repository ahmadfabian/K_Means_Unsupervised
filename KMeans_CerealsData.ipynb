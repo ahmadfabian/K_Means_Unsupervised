{
 "cells": [
  {
   "cell_type": "markdown",
   "metadata": {},
   "source": [
    "import libraries"
   ]
  },
  {
   "cell_type": "code",
   "execution_count": 1,
   "metadata": {},
   "outputs": [],
   "source": [
    "import pandas as pd\n",
    "import numpy as np\n",
    "from sklearn.cluster import KMeans\n",
    "from sklearn.impute import SimpleImputer\n",
    "from sklearn.preprocessing import StandardScaler\n",
    "from sklearn.metrics import silhouette_samples, silhouette_score\n",
    "import matplotlib.pyplot as plt\n",
    "from scipy.cluster.hierarchy import linkage, dendrogram\n",
    "from sklearn.cluster import AgglomerativeClustering"
   ]
  },
  {
   "cell_type": "markdown",
   "metadata": {},
   "source": [
    "import data"
   ]
  },
  {
   "cell_type": "code",
   "execution_count": 2,
   "metadata": {},
   "outputs": [
    {
     "data": {
      "text/html": [
       "<div>\n",
       "<style scoped>\n",
       "    .dataframe tbody tr th:only-of-type {\n",
       "        vertical-align: middle;\n",
       "    }\n",
       "\n",
       "    .dataframe tbody tr th {\n",
       "        vertical-align: top;\n",
       "    }\n",
       "\n",
       "    .dataframe thead th {\n",
       "        text-align: right;\n",
       "    }\n",
       "</style>\n",
       "<table border=\"1\" class=\"dataframe\">\n",
       "  <thead>\n",
       "    <tr style=\"text-align: right;\">\n",
       "      <th></th>\n",
       "      <th>name</th>\n",
       "      <th>calories</th>\n",
       "      <th>protein</th>\n",
       "      <th>fat</th>\n",
       "      <th>sodium</th>\n",
       "      <th>fiber</th>\n",
       "      <th>carbo</th>\n",
       "      <th>sugars</th>\n",
       "      <th>potass</th>\n",
       "      <th>vitamins</th>\n",
       "      <th>shelf</th>\n",
       "      <th>weight</th>\n",
       "      <th>cups</th>\n",
       "      <th>rating</th>\n",
       "    </tr>\n",
       "  </thead>\n",
       "  <tbody>\n",
       "    <tr>\n",
       "      <th>0</th>\n",
       "      <td>100%_Bran</td>\n",
       "      <td>70</td>\n",
       "      <td>4</td>\n",
       "      <td>1</td>\n",
       "      <td>130</td>\n",
       "      <td>10.0</td>\n",
       "      <td>5.0</td>\n",
       "      <td>6.0</td>\n",
       "      <td>280.0</td>\n",
       "      <td>25</td>\n",
       "      <td>3</td>\n",
       "      <td>1.00</td>\n",
       "      <td>0.33</td>\n",
       "      <td>68.402973</td>\n",
       "    </tr>\n",
       "    <tr>\n",
       "      <th>1</th>\n",
       "      <td>100%_Natural_Bran</td>\n",
       "      <td>120</td>\n",
       "      <td>3</td>\n",
       "      <td>5</td>\n",
       "      <td>15</td>\n",
       "      <td>2.0</td>\n",
       "      <td>8.0</td>\n",
       "      <td>8.0</td>\n",
       "      <td>135.0</td>\n",
       "      <td>0</td>\n",
       "      <td>3</td>\n",
       "      <td>1.00</td>\n",
       "      <td>1.00</td>\n",
       "      <td>33.983679</td>\n",
       "    </tr>\n",
       "    <tr>\n",
       "      <th>2</th>\n",
       "      <td>All-Bran</td>\n",
       "      <td>70</td>\n",
       "      <td>4</td>\n",
       "      <td>1</td>\n",
       "      <td>260</td>\n",
       "      <td>9.0</td>\n",
       "      <td>7.0</td>\n",
       "      <td>5.0</td>\n",
       "      <td>320.0</td>\n",
       "      <td>25</td>\n",
       "      <td>3</td>\n",
       "      <td>1.00</td>\n",
       "      <td>0.33</td>\n",
       "      <td>59.425505</td>\n",
       "    </tr>\n",
       "    <tr>\n",
       "      <th>3</th>\n",
       "      <td>All-Bran_with_Extra_Fiber</td>\n",
       "      <td>50</td>\n",
       "      <td>4</td>\n",
       "      <td>0</td>\n",
       "      <td>140</td>\n",
       "      <td>14.0</td>\n",
       "      <td>8.0</td>\n",
       "      <td>0.0</td>\n",
       "      <td>330.0</td>\n",
       "      <td>25</td>\n",
       "      <td>3</td>\n",
       "      <td>1.00</td>\n",
       "      <td>0.50</td>\n",
       "      <td>93.704912</td>\n",
       "    </tr>\n",
       "    <tr>\n",
       "      <th>4</th>\n",
       "      <td>Almond_Delight</td>\n",
       "      <td>110</td>\n",
       "      <td>2</td>\n",
       "      <td>2</td>\n",
       "      <td>200</td>\n",
       "      <td>1.0</td>\n",
       "      <td>14.0</td>\n",
       "      <td>8.0</td>\n",
       "      <td>NaN</td>\n",
       "      <td>25</td>\n",
       "      <td>3</td>\n",
       "      <td>1.00</td>\n",
       "      <td>0.75</td>\n",
       "      <td>34.384843</td>\n",
       "    </tr>\n",
       "    <tr>\n",
       "      <th>5</th>\n",
       "      <td>Apple_Cinnamon_Cheerios</td>\n",
       "      <td>110</td>\n",
       "      <td>2</td>\n",
       "      <td>2</td>\n",
       "      <td>180</td>\n",
       "      <td>1.5</td>\n",
       "      <td>10.5</td>\n",
       "      <td>10.0</td>\n",
       "      <td>70.0</td>\n",
       "      <td>25</td>\n",
       "      <td>1</td>\n",
       "      <td>1.00</td>\n",
       "      <td>0.75</td>\n",
       "      <td>29.509541</td>\n",
       "    </tr>\n",
       "    <tr>\n",
       "      <th>6</th>\n",
       "      <td>Apple_Jacks</td>\n",
       "      <td>110</td>\n",
       "      <td>2</td>\n",
       "      <td>0</td>\n",
       "      <td>125</td>\n",
       "      <td>1.0</td>\n",
       "      <td>11.0</td>\n",
       "      <td>14.0</td>\n",
       "      <td>30.0</td>\n",
       "      <td>25</td>\n",
       "      <td>2</td>\n",
       "      <td>1.00</td>\n",
       "      <td>1.00</td>\n",
       "      <td>33.174094</td>\n",
       "    </tr>\n",
       "    <tr>\n",
       "      <th>7</th>\n",
       "      <td>Basic_4</td>\n",
       "      <td>130</td>\n",
       "      <td>3</td>\n",
       "      <td>2</td>\n",
       "      <td>210</td>\n",
       "      <td>2.0</td>\n",
       "      <td>18.0</td>\n",
       "      <td>8.0</td>\n",
       "      <td>100.0</td>\n",
       "      <td>25</td>\n",
       "      <td>3</td>\n",
       "      <td>1.33</td>\n",
       "      <td>0.75</td>\n",
       "      <td>37.038562</td>\n",
       "    </tr>\n",
       "    <tr>\n",
       "      <th>8</th>\n",
       "      <td>Bran_Chex</td>\n",
       "      <td>90</td>\n",
       "      <td>2</td>\n",
       "      <td>1</td>\n",
       "      <td>200</td>\n",
       "      <td>4.0</td>\n",
       "      <td>15.0</td>\n",
       "      <td>6.0</td>\n",
       "      <td>125.0</td>\n",
       "      <td>25</td>\n",
       "      <td>1</td>\n",
       "      <td>1.00</td>\n",
       "      <td>0.67</td>\n",
       "      <td>49.120253</td>\n",
       "    </tr>\n",
       "    <tr>\n",
       "      <th>9</th>\n",
       "      <td>Bran_Flakes</td>\n",
       "      <td>90</td>\n",
       "      <td>3</td>\n",
       "      <td>0</td>\n",
       "      <td>210</td>\n",
       "      <td>5.0</td>\n",
       "      <td>13.0</td>\n",
       "      <td>5.0</td>\n",
       "      <td>190.0</td>\n",
       "      <td>25</td>\n",
       "      <td>3</td>\n",
       "      <td>1.00</td>\n",
       "      <td>0.67</td>\n",
       "      <td>53.313813</td>\n",
       "    </tr>\n",
       "  </tbody>\n",
       "</table>\n",
       "</div>"
      ],
      "text/plain": [
       "                        name  calories  protein  fat  sodium  fiber  carbo  \\\n",
       "0                  100%_Bran        70        4    1     130   10.0    5.0   \n",
       "1          100%_Natural_Bran       120        3    5      15    2.0    8.0   \n",
       "2                   All-Bran        70        4    1     260    9.0    7.0   \n",
       "3  All-Bran_with_Extra_Fiber        50        4    0     140   14.0    8.0   \n",
       "4             Almond_Delight       110        2    2     200    1.0   14.0   \n",
       "5    Apple_Cinnamon_Cheerios       110        2    2     180    1.5   10.5   \n",
       "6                Apple_Jacks       110        2    0     125    1.0   11.0   \n",
       "7                    Basic_4       130        3    2     210    2.0   18.0   \n",
       "8                  Bran_Chex        90        2    1     200    4.0   15.0   \n",
       "9                Bran_Flakes        90        3    0     210    5.0   13.0   \n",
       "\n",
       "   sugars  potass  vitamins  shelf  weight  cups     rating  \n",
       "0     6.0   280.0        25      3    1.00  0.33  68.402973  \n",
       "1     8.0   135.0         0      3    1.00  1.00  33.983679  \n",
       "2     5.0   320.0        25      3    1.00  0.33  59.425505  \n",
       "3     0.0   330.0        25      3    1.00  0.50  93.704912  \n",
       "4     8.0     NaN        25      3    1.00  0.75  34.384843  \n",
       "5    10.0    70.0        25      1    1.00  0.75  29.509541  \n",
       "6    14.0    30.0        25      2    1.00  1.00  33.174094  \n",
       "7     8.0   100.0        25      3    1.33  0.75  37.038562  \n",
       "8     6.0   125.0        25      1    1.00  0.67  49.120253  \n",
       "9     5.0   190.0        25      3    1.00  0.67  53.313813  "
      ]
     },
     "execution_count": 2,
     "metadata": {},
     "output_type": "execute_result"
    }
   ],
   "source": [
    "cereals = pd.read_csv('input/Cereals.csv')\n",
    "cereals.head(10)"
   ]
  },
  {
   "cell_type": "markdown",
   "metadata": {},
   "source": [
    "data shape"
   ]
  },
  {
   "cell_type": "code",
   "execution_count": 3,
   "metadata": {},
   "outputs": [
    {
     "data": {
      "text/plain": [
       "(77, 14)"
      ]
     },
     "execution_count": 3,
     "metadata": {},
     "output_type": "execute_result"
    }
   ],
   "source": [
    "cereals.shape"
   ]
  },
  {
   "cell_type": "markdown",
   "metadata": {},
   "source": [
    "data describe"
   ]
  },
  {
   "cell_type": "code",
   "execution_count": 4,
   "metadata": {},
   "outputs": [
    {
     "data": {
      "text/html": [
       "<div>\n",
       "<style scoped>\n",
       "    .dataframe tbody tr th:only-of-type {\n",
       "        vertical-align: middle;\n",
       "    }\n",
       "\n",
       "    .dataframe tbody tr th {\n",
       "        vertical-align: top;\n",
       "    }\n",
       "\n",
       "    .dataframe thead th {\n",
       "        text-align: right;\n",
       "    }\n",
       "</style>\n",
       "<table border=\"1\" class=\"dataframe\">\n",
       "  <thead>\n",
       "    <tr style=\"text-align: right;\">\n",
       "      <th></th>\n",
       "      <th>calories</th>\n",
       "      <th>protein</th>\n",
       "      <th>fat</th>\n",
       "      <th>sodium</th>\n",
       "      <th>fiber</th>\n",
       "      <th>carbo</th>\n",
       "      <th>sugars</th>\n",
       "      <th>potass</th>\n",
       "      <th>vitamins</th>\n",
       "      <th>shelf</th>\n",
       "      <th>weight</th>\n",
       "      <th>cups</th>\n",
       "      <th>rating</th>\n",
       "    </tr>\n",
       "  </thead>\n",
       "  <tbody>\n",
       "    <tr>\n",
       "      <th>count</th>\n",
       "      <td>77.000000</td>\n",
       "      <td>77.000000</td>\n",
       "      <td>77.000000</td>\n",
       "      <td>77.000000</td>\n",
       "      <td>77.000000</td>\n",
       "      <td>76.000000</td>\n",
       "      <td>76.000000</td>\n",
       "      <td>75.000000</td>\n",
       "      <td>77.000000</td>\n",
       "      <td>77.000000</td>\n",
       "      <td>77.000000</td>\n",
       "      <td>77.000000</td>\n",
       "      <td>77.000000</td>\n",
       "    </tr>\n",
       "    <tr>\n",
       "      <th>mean</th>\n",
       "      <td>106.883117</td>\n",
       "      <td>2.545455</td>\n",
       "      <td>1.012987</td>\n",
       "      <td>159.675325</td>\n",
       "      <td>2.151948</td>\n",
       "      <td>14.802632</td>\n",
       "      <td>7.026316</td>\n",
       "      <td>98.666667</td>\n",
       "      <td>28.246753</td>\n",
       "      <td>2.207792</td>\n",
       "      <td>1.029610</td>\n",
       "      <td>0.821039</td>\n",
       "      <td>42.665705</td>\n",
       "    </tr>\n",
       "    <tr>\n",
       "      <th>std</th>\n",
       "      <td>19.484119</td>\n",
       "      <td>1.094790</td>\n",
       "      <td>1.006473</td>\n",
       "      <td>83.832295</td>\n",
       "      <td>2.383364</td>\n",
       "      <td>3.907326</td>\n",
       "      <td>4.378656</td>\n",
       "      <td>70.410636</td>\n",
       "      <td>22.342523</td>\n",
       "      <td>0.832524</td>\n",
       "      <td>0.150477</td>\n",
       "      <td>0.232716</td>\n",
       "      <td>14.047289</td>\n",
       "    </tr>\n",
       "    <tr>\n",
       "      <th>min</th>\n",
       "      <td>50.000000</td>\n",
       "      <td>1.000000</td>\n",
       "      <td>0.000000</td>\n",
       "      <td>0.000000</td>\n",
       "      <td>0.000000</td>\n",
       "      <td>5.000000</td>\n",
       "      <td>0.000000</td>\n",
       "      <td>15.000000</td>\n",
       "      <td>0.000000</td>\n",
       "      <td>1.000000</td>\n",
       "      <td>0.500000</td>\n",
       "      <td>0.250000</td>\n",
       "      <td>18.042851</td>\n",
       "    </tr>\n",
       "    <tr>\n",
       "      <th>25%</th>\n",
       "      <td>100.000000</td>\n",
       "      <td>2.000000</td>\n",
       "      <td>0.000000</td>\n",
       "      <td>130.000000</td>\n",
       "      <td>1.000000</td>\n",
       "      <td>12.000000</td>\n",
       "      <td>3.000000</td>\n",
       "      <td>42.500000</td>\n",
       "      <td>25.000000</td>\n",
       "      <td>1.000000</td>\n",
       "      <td>1.000000</td>\n",
       "      <td>0.670000</td>\n",
       "      <td>33.174094</td>\n",
       "    </tr>\n",
       "    <tr>\n",
       "      <th>50%</th>\n",
       "      <td>110.000000</td>\n",
       "      <td>3.000000</td>\n",
       "      <td>1.000000</td>\n",
       "      <td>180.000000</td>\n",
       "      <td>2.000000</td>\n",
       "      <td>14.500000</td>\n",
       "      <td>7.000000</td>\n",
       "      <td>90.000000</td>\n",
       "      <td>25.000000</td>\n",
       "      <td>2.000000</td>\n",
       "      <td>1.000000</td>\n",
       "      <td>0.750000</td>\n",
       "      <td>40.400208</td>\n",
       "    </tr>\n",
       "    <tr>\n",
       "      <th>75%</th>\n",
       "      <td>110.000000</td>\n",
       "      <td>3.000000</td>\n",
       "      <td>2.000000</td>\n",
       "      <td>210.000000</td>\n",
       "      <td>3.000000</td>\n",
       "      <td>17.000000</td>\n",
       "      <td>11.000000</td>\n",
       "      <td>120.000000</td>\n",
       "      <td>25.000000</td>\n",
       "      <td>3.000000</td>\n",
       "      <td>1.000000</td>\n",
       "      <td>1.000000</td>\n",
       "      <td>50.828392</td>\n",
       "    </tr>\n",
       "    <tr>\n",
       "      <th>max</th>\n",
       "      <td>160.000000</td>\n",
       "      <td>6.000000</td>\n",
       "      <td>5.000000</td>\n",
       "      <td>320.000000</td>\n",
       "      <td>14.000000</td>\n",
       "      <td>23.000000</td>\n",
       "      <td>15.000000</td>\n",
       "      <td>330.000000</td>\n",
       "      <td>100.000000</td>\n",
       "      <td>3.000000</td>\n",
       "      <td>1.500000</td>\n",
       "      <td>1.500000</td>\n",
       "      <td>93.704912</td>\n",
       "    </tr>\n",
       "  </tbody>\n",
       "</table>\n",
       "</div>"
      ],
      "text/plain": [
       "         calories    protein        fat      sodium      fiber      carbo  \\\n",
       "count   77.000000  77.000000  77.000000   77.000000  77.000000  76.000000   \n",
       "mean   106.883117   2.545455   1.012987  159.675325   2.151948  14.802632   \n",
       "std     19.484119   1.094790   1.006473   83.832295   2.383364   3.907326   \n",
       "min     50.000000   1.000000   0.000000    0.000000   0.000000   5.000000   \n",
       "25%    100.000000   2.000000   0.000000  130.000000   1.000000  12.000000   \n",
       "50%    110.000000   3.000000   1.000000  180.000000   2.000000  14.500000   \n",
       "75%    110.000000   3.000000   2.000000  210.000000   3.000000  17.000000   \n",
       "max    160.000000   6.000000   5.000000  320.000000  14.000000  23.000000   \n",
       "\n",
       "          sugars      potass    vitamins      shelf     weight       cups  \\\n",
       "count  76.000000   75.000000   77.000000  77.000000  77.000000  77.000000   \n",
       "mean    7.026316   98.666667   28.246753   2.207792   1.029610   0.821039   \n",
       "std     4.378656   70.410636   22.342523   0.832524   0.150477   0.232716   \n",
       "min     0.000000   15.000000    0.000000   1.000000   0.500000   0.250000   \n",
       "25%     3.000000   42.500000   25.000000   1.000000   1.000000   0.670000   \n",
       "50%     7.000000   90.000000   25.000000   2.000000   1.000000   0.750000   \n",
       "75%    11.000000  120.000000   25.000000   3.000000   1.000000   1.000000   \n",
       "max    15.000000  330.000000  100.000000   3.000000   1.500000   1.500000   \n",
       "\n",
       "          rating  \n",
       "count  77.000000  \n",
       "mean   42.665705  \n",
       "std    14.047289  \n",
       "min    18.042851  \n",
       "25%    33.174094  \n",
       "50%    40.400208  \n",
       "75%    50.828392  \n",
       "max    93.704912  "
      ]
     },
     "execution_count": 4,
     "metadata": {},
     "output_type": "execute_result"
    }
   ],
   "source": [
    "cereals.describe()"
   ]
  },
  {
   "cell_type": "code",
   "execution_count": 5,
   "metadata": {},
   "outputs": [
    {
     "data": {
      "text/html": [
       "<div>\n",
       "<style scoped>\n",
       "    .dataframe tbody tr th:only-of-type {\n",
       "        vertical-align: middle;\n",
       "    }\n",
       "\n",
       "    .dataframe tbody tr th {\n",
       "        vertical-align: top;\n",
       "    }\n",
       "\n",
       "    .dataframe thead th {\n",
       "        text-align: right;\n",
       "    }\n",
       "</style>\n",
       "<table border=\"1\" class=\"dataframe\">\n",
       "  <thead>\n",
       "    <tr style=\"text-align: right;\">\n",
       "      <th></th>\n",
       "      <th>name</th>\n",
       "    </tr>\n",
       "  </thead>\n",
       "  <tbody>\n",
       "    <tr>\n",
       "      <th>count</th>\n",
       "      <td>77</td>\n",
       "    </tr>\n",
       "    <tr>\n",
       "      <th>unique</th>\n",
       "      <td>77</td>\n",
       "    </tr>\n",
       "    <tr>\n",
       "      <th>top</th>\n",
       "      <td>Total_Whole_Grain</td>\n",
       "    </tr>\n",
       "    <tr>\n",
       "      <th>freq</th>\n",
       "      <td>1</td>\n",
       "    </tr>\n",
       "  </tbody>\n",
       "</table>\n",
       "</div>"
      ],
      "text/plain": [
       "                     name\n",
       "count                  77\n",
       "unique                 77\n",
       "top     Total_Whole_Grain\n",
       "freq                    1"
      ]
     },
     "execution_count": 5,
     "metadata": {},
     "output_type": "execute_result"
    }
   ],
   "source": [
    "cereals.describe(include='object')"
   ]
  },
  {
   "cell_type": "markdown",
   "metadata": {},
   "source": [
    "Aggregate the columns ‘name’ shelf’ and ‘rating’ into one single column and name is as ‘label’"
   ]
  },
  {
   "cell_type": "code",
   "execution_count": 6,
   "metadata": {},
   "outputs": [
    {
     "data": {
      "text/html": [
       "<div>\n",
       "<style scoped>\n",
       "    .dataframe tbody tr th:only-of-type {\n",
       "        vertical-align: middle;\n",
       "    }\n",
       "\n",
       "    .dataframe tbody tr th {\n",
       "        vertical-align: top;\n",
       "    }\n",
       "\n",
       "    .dataframe thead th {\n",
       "        text-align: right;\n",
       "    }\n",
       "</style>\n",
       "<table border=\"1\" class=\"dataframe\">\n",
       "  <thead>\n",
       "    <tr style=\"text-align: right;\">\n",
       "      <th></th>\n",
       "      <th>calories</th>\n",
       "      <th>protein</th>\n",
       "      <th>fat</th>\n",
       "      <th>sodium</th>\n",
       "      <th>fiber</th>\n",
       "      <th>carbo</th>\n",
       "      <th>sugars</th>\n",
       "      <th>potass</th>\n",
       "      <th>vitamins</th>\n",
       "      <th>weight</th>\n",
       "      <th>cups</th>\n",
       "      <th>label</th>\n",
       "    </tr>\n",
       "  </thead>\n",
       "  <tbody>\n",
       "    <tr>\n",
       "      <th>0</th>\n",
       "      <td>70</td>\n",
       "      <td>4</td>\n",
       "      <td>1</td>\n",
       "      <td>130</td>\n",
       "      <td>10.0</td>\n",
       "      <td>5.0</td>\n",
       "      <td>6.0</td>\n",
       "      <td>280.0</td>\n",
       "      <td>25</td>\n",
       "      <td>1.0</td>\n",
       "      <td>0.33</td>\n",
       "      <td>100%_Bran (3 - 68.4)</td>\n",
       "    </tr>\n",
       "    <tr>\n",
       "      <th>1</th>\n",
       "      <td>120</td>\n",
       "      <td>3</td>\n",
       "      <td>5</td>\n",
       "      <td>15</td>\n",
       "      <td>2.0</td>\n",
       "      <td>8.0</td>\n",
       "      <td>8.0</td>\n",
       "      <td>135.0</td>\n",
       "      <td>0</td>\n",
       "      <td>1.0</td>\n",
       "      <td>1.00</td>\n",
       "      <td>100%_Natural_Bran (3 - 33.98)</td>\n",
       "    </tr>\n",
       "    <tr>\n",
       "      <th>2</th>\n",
       "      <td>70</td>\n",
       "      <td>4</td>\n",
       "      <td>1</td>\n",
       "      <td>260</td>\n",
       "      <td>9.0</td>\n",
       "      <td>7.0</td>\n",
       "      <td>5.0</td>\n",
       "      <td>320.0</td>\n",
       "      <td>25</td>\n",
       "      <td>1.0</td>\n",
       "      <td>0.33</td>\n",
       "      <td>All-Bran (3 - 59.43)</td>\n",
       "    </tr>\n",
       "    <tr>\n",
       "      <th>3</th>\n",
       "      <td>50</td>\n",
       "      <td>4</td>\n",
       "      <td>0</td>\n",
       "      <td>140</td>\n",
       "      <td>14.0</td>\n",
       "      <td>8.0</td>\n",
       "      <td>0.0</td>\n",
       "      <td>330.0</td>\n",
       "      <td>25</td>\n",
       "      <td>1.0</td>\n",
       "      <td>0.50</td>\n",
       "      <td>All-Bran_with_Extra_Fiber (3 - 93.7)</td>\n",
       "    </tr>\n",
       "    <tr>\n",
       "      <th>4</th>\n",
       "      <td>110</td>\n",
       "      <td>2</td>\n",
       "      <td>2</td>\n",
       "      <td>200</td>\n",
       "      <td>1.0</td>\n",
       "      <td>14.0</td>\n",
       "      <td>8.0</td>\n",
       "      <td>NaN</td>\n",
       "      <td>25</td>\n",
       "      <td>1.0</td>\n",
       "      <td>0.75</td>\n",
       "      <td>Almond_Delight (3 - 34.38)</td>\n",
       "    </tr>\n",
       "  </tbody>\n",
       "</table>\n",
       "</div>"
      ],
      "text/plain": [
       "   calories  protein  fat  sodium  fiber  carbo  sugars  potass  vitamins  \\\n",
       "0        70        4    1     130   10.0    5.0     6.0   280.0        25   \n",
       "1       120        3    5      15    2.0    8.0     8.0   135.0         0   \n",
       "2        70        4    1     260    9.0    7.0     5.0   320.0        25   \n",
       "3        50        4    0     140   14.0    8.0     0.0   330.0        25   \n",
       "4       110        2    2     200    1.0   14.0     8.0     NaN        25   \n",
       "\n",
       "   weight  cups                                 label  \n",
       "0     1.0  0.33                  100%_Bran (3 - 68.4)  \n",
       "1     1.0  1.00         100%_Natural_Bran (3 - 33.98)  \n",
       "2     1.0  0.33                  All-Bran (3 - 59.43)  \n",
       "3     1.0  0.50  All-Bran_with_Extra_Fiber (3 - 93.7)  \n",
       "4     1.0  0.75            Almond_Delight (3 - 34.38)  "
      ]
     },
     "execution_count": 6,
     "metadata": {},
     "output_type": "execute_result"
    }
   ],
   "source": [
    "cereals['label'] = cereals['name']+ ' (' + cereals['shelf'].astype(str) + \" - \" + round(cereals['rating'],2).astype(str) + ')'\n",
    "cereals.drop(['name','shelf','rating'], axis=1, inplace=True)\n",
    "cereals.head()"
   ]
  },
  {
   "cell_type": "markdown",
   "metadata": {},
   "source": [
    "Observe the datatypes of the data using dtypes attribute."
   ]
  },
  {
   "cell_type": "code",
   "execution_count": 7,
   "metadata": {},
   "outputs": [
    {
     "data": {
      "text/plain": [
       "calories      int64\n",
       "protein       int64\n",
       "fat           int64\n",
       "sodium        int64\n",
       "fiber       float64\n",
       "carbo       float64\n",
       "sugars      float64\n",
       "potass      float64\n",
       "vitamins      int64\n",
       "weight      float64\n",
       "cups        float64\n",
       "label        object\n",
       "dtype: object"
      ]
     },
     "execution_count": 7,
     "metadata": {},
     "output_type": "execute_result"
    }
   ],
   "source": [
    "cereals.dtypes"
   ]
  },
  {
   "cell_type": "markdown",
   "metadata": {},
   "source": [
    "Check whether the newly created label field is unique across along the dataframe"
   ]
  },
  {
   "cell_type": "markdown",
   "metadata": {},
   "source": []
  },
  {
   "cell_type": "code",
   "execution_count": 8,
   "metadata": {},
   "outputs": [],
   "source": [
    "cereal_label = cereals['label']\n",
    "cereals.drop('label', axis=1, inplace=True)"
   ]
  },
  {
   "cell_type": "markdown",
   "metadata": {},
   "source": []
  },
  {
   "cell_type": "code",
   "execution_count": 9,
   "metadata": {},
   "outputs": [],
   "source": [
    "imputer = SimpleImputer(strategy='mean')\n",
    "imputer.fit(cereals)\n",
    "imputed_cereals = imputer.transform(cereals)"
   ]
  },
  {
   "cell_type": "markdown",
   "metadata": {},
   "source": []
  },
  {
   "cell_type": "code",
   "execution_count": 10,
   "metadata": {},
   "outputs": [
    {
     "data": {
      "text/plain": [
       "numpy.ndarray"
      ]
     },
     "execution_count": 10,
     "metadata": {},
     "output_type": "execute_result"
    }
   ],
   "source": [
    "type(imputed_cereals)"
   ]
  },
  {
   "cell_type": "markdown",
   "metadata": {},
   "source": []
  },
  {
   "cell_type": "code",
   "execution_count": 11,
   "metadata": {},
   "outputs": [],
   "source": [
    "imputed_cerals = pd.DataFrame(imputer.transform(cereals), columns=cereals.columns)"
   ]
  },
  {
   "cell_type": "markdown",
   "metadata": {},
   "source": []
  },
  {
   "cell_type": "code",
   "execution_count": 12,
   "metadata": {},
   "outputs": [
    {
     "data": {
      "text/html": [
       "<div>\n",
       "<style scoped>\n",
       "    .dataframe tbody tr th:only-of-type {\n",
       "        vertical-align: middle;\n",
       "    }\n",
       "\n",
       "    .dataframe tbody tr th {\n",
       "        vertical-align: top;\n",
       "    }\n",
       "\n",
       "    .dataframe thead th {\n",
       "        text-align: right;\n",
       "    }\n",
       "</style>\n",
       "<table border=\"1\" class=\"dataframe\">\n",
       "  <thead>\n",
       "    <tr style=\"text-align: right;\">\n",
       "      <th></th>\n",
       "      <th>calories</th>\n",
       "      <th>protein</th>\n",
       "      <th>fat</th>\n",
       "      <th>sodium</th>\n",
       "      <th>fiber</th>\n",
       "      <th>carbo</th>\n",
       "      <th>sugars</th>\n",
       "      <th>potass</th>\n",
       "      <th>vitamins</th>\n",
       "      <th>weight</th>\n",
       "      <th>cups</th>\n",
       "    </tr>\n",
       "  </thead>\n",
       "  <tbody>\n",
       "    <tr>\n",
       "      <th>0</th>\n",
       "      <td>70.0</td>\n",
       "      <td>4.0</td>\n",
       "      <td>1.0</td>\n",
       "      <td>130.0</td>\n",
       "      <td>10.0</td>\n",
       "      <td>5.0</td>\n",
       "      <td>6.0</td>\n",
       "      <td>280.0</td>\n",
       "      <td>25.0</td>\n",
       "      <td>1.0</td>\n",
       "      <td>0.33</td>\n",
       "    </tr>\n",
       "  </tbody>\n",
       "</table>\n",
       "</div>"
      ],
      "text/plain": [
       "   calories  protein  fat  sodium  fiber  carbo  sugars  potass  vitamins  \\\n",
       "0      70.0      4.0  1.0   130.0   10.0    5.0     6.0   280.0      25.0   \n",
       "\n",
       "   weight  cups  \n",
       "0     1.0  0.33  "
      ]
     },
     "execution_count": 12,
     "metadata": {},
     "output_type": "execute_result"
    }
   ],
   "source": [
    "imputed_cerals.head(1)"
   ]
  },
  {
   "cell_type": "markdown",
   "metadata": {},
   "source": []
  },
  {
   "cell_type": "code",
   "execution_count": 13,
   "metadata": {},
   "outputs": [],
   "source": [
    "scaler = StandardScaler()\n",
    "scaler.fit(imputed_cerals)\n",
    "scaled_cereals = scaler.transform(imputed_cerals)"
   ]
  },
  {
   "cell_type": "markdown",
   "metadata": {},
   "source": []
  },
  {
   "cell_type": "code",
   "execution_count": 14,
   "metadata": {},
   "outputs": [],
   "source": [
    "scaled_cereals = pd.DataFrame(scaler.transform(imputed_cerals), columns=cereals.columns)"
   ]
  },
  {
   "cell_type": "markdown",
   "metadata": {},
   "source": []
  },
  {
   "cell_type": "code",
   "execution_count": 15,
   "metadata": {},
   "outputs": [
    {
     "data": {
      "text/html": [
       "<div>\n",
       "<style scoped>\n",
       "    .dataframe tbody tr th:only-of-type {\n",
       "        vertical-align: middle;\n",
       "    }\n",
       "\n",
       "    .dataframe tbody tr th {\n",
       "        vertical-align: top;\n",
       "    }\n",
       "\n",
       "    .dataframe thead th {\n",
       "        text-align: right;\n",
       "    }\n",
       "</style>\n",
       "<table border=\"1\" class=\"dataframe\">\n",
       "  <thead>\n",
       "    <tr style=\"text-align: right;\">\n",
       "      <th></th>\n",
       "      <th>calories</th>\n",
       "      <th>protein</th>\n",
       "      <th>fat</th>\n",
       "      <th>sodium</th>\n",
       "      <th>fiber</th>\n",
       "      <th>carbo</th>\n",
       "      <th>sugars</th>\n",
       "      <th>potass</th>\n",
       "      <th>vitamins</th>\n",
       "      <th>weight</th>\n",
       "      <th>cups</th>\n",
       "    </tr>\n",
       "  </thead>\n",
       "  <tbody>\n",
       "    <tr>\n",
       "      <th>0</th>\n",
       "      <td>-1.905397</td>\n",
       "      <td>1.337319</td>\n",
       "      <td>-0.012988</td>\n",
       "      <td>-0.356306</td>\n",
       "      <td>3.314439</td>\n",
       "      <td>-2.542013</td>\n",
       "      <td>-0.237495</td>\n",
       "      <td>2.627053</td>\n",
       "      <td>-0.14627</td>\n",
       "      <td>-0.198067</td>\n",
       "      <td>-2.12387</td>\n",
       "    </tr>\n",
       "  </tbody>\n",
       "</table>\n",
       "</div>"
      ],
      "text/plain": [
       "   calories   protein       fat    sodium     fiber     carbo    sugars  \\\n",
       "0 -1.905397  1.337319 -0.012988 -0.356306  3.314439 -2.542013 -0.237495   \n",
       "\n",
       "     potass  vitamins    weight     cups  \n",
       "0  2.627053  -0.14627 -0.198067 -2.12387  "
      ]
     },
     "execution_count": 15,
     "metadata": {},
     "output_type": "execute_result"
    }
   ],
   "source": [
    "scaled_cereals.head(1)"
   ]
  },
  {
   "cell_type": "markdown",
   "metadata": {},
   "source": []
  },
  {
   "cell_type": "code",
   "execution_count": 16,
   "metadata": {},
   "outputs": [
    {
     "data": {
      "text/plain": [
       "KMeans(algorithm='auto', copy_x=True, init='k-means++', max_iter=300,\n",
       "       n_clusters=5, n_init=10, n_jobs=None, precompute_distances='auto',\n",
       "       random_state=7, tol=0.0001, verbose=0)"
      ]
     },
     "execution_count": 16,
     "metadata": {},
     "output_type": "execute_result"
    }
   ],
   "source": [
    "kmeans_cereals = KMeans(n_clusters=5, random_state=7)\n",
    "kmeans_cereals.fit(scaled_cereals)"
   ]
  },
  {
   "cell_type": "markdown",
   "metadata": {},
   "source": []
  },
  {
   "cell_type": "code",
   "execution_count": 17,
   "metadata": {},
   "outputs": [
    {
     "data": {
      "text/plain": [
       "array([[-1.18215105, -0.04179123, -0.91306402, -1.80312481, -0.06417167,\n",
       "         0.284569  , -1.13997707, -0.10575821, -0.82203813, -0.98069456,\n",
       "         0.1858176 ],\n",
       "       [ 0.20798344, -0.91940708,  0.03247027,  0.12396629, -0.65926792,\n",
       "        -0.59711721,  0.99316184, -0.70922536, -0.14627013, -0.19806746,\n",
       "         0.20980312],\n",
       "       [-0.57698632,  0.81194392,  0.62992325, -0.28340722,  1.05800982,\n",
       "        -0.86935392, -0.33623408,  0.94030295, -0.30716727, -0.19806746,\n",
       "        -1.25881873],\n",
       "       [-0.11087742,  0.12757323, -0.43407625,  0.85701292, -0.35313182,\n",
       "         1.04751419, -0.87081582, -0.48774335,  0.56506461, -0.19806746,\n",
       "         0.75811759],\n",
       "       [ 1.45252952,  0.57114682,  0.65373479,  0.24903711,  0.58691482,\n",
       "         0.21325615,  0.90024898,  1.06361854,  0.41686987,  1.72505468,\n",
       "        -0.27121805]])"
      ]
     },
     "execution_count": 17,
     "metadata": {},
     "output_type": "execute_result"
    }
   ],
   "source": [
    "kmeans_cereals.cluster_centers_"
   ]
  },
  {
   "cell_type": "markdown",
   "metadata": {},
   "source": []
  },
  {
   "cell_type": "code",
   "execution_count": 18,
   "metadata": {},
   "outputs": [
    {
     "data": {
      "text/plain": [
       "array([2, 2, 2, 2, 1, 1, 1, 4, 2, 2, 1, 3, 1, 2, 1, 3, 3, 1, 1, 2, 0, 3,\n",
       "       1, 3, 1, 1, 0, 4, 4, 1, 1, 1, 3, 2, 2, 1, 1, 1, 3, 4, 3, 2, 1, 0,\n",
       "       4, 4, 4, 3, 1, 4, 3, 4, 4, 3, 0, 0, 2, 2, 4, 2, 0, 3, 3, 0, 0, 0,\n",
       "       1, 3, 0, 3, 4, 3, 3, 1, 3, 3, 1], dtype=int32)"
      ]
     },
     "execution_count": 18,
     "metadata": {},
     "output_type": "execute_result"
    }
   ],
   "source": [
    "kmeans_cereals.labels_"
   ]
  },
  {
   "cell_type": "markdown",
   "metadata": {},
   "source": []
  },
  {
   "cell_type": "code",
   "execution_count": 19,
   "metadata": {},
   "outputs": [
    {
     "data": {
      "text/plain": [
       "424.5381665897046"
      ]
     },
     "execution_count": 19,
     "metadata": {},
     "output_type": "execute_result"
    }
   ],
   "source": [
    "kmeans_cereals.inertia_"
   ]
  },
  {
   "cell_type": "markdown",
   "metadata": {},
   "source": []
  },
  {
   "cell_type": "code",
   "execution_count": 20,
   "metadata": {},
   "outputs": [
    {
     "name": "stdout",
     "output_type": "stream",
     "text": [
      "silhouette_score(scaled_cereals, labels): 0.21735076008649726\n",
      "silhouette_score(scaled_cereals, labels): 0.17149087598542434\n",
      "silhouette_score(scaled_cereals, labels): 0.20839328452574316\n",
      "silhouette_score(scaled_cereals, labels): 0.2501020816861865\n",
      "silhouette_score(scaled_cereals, labels): 0.2482984792570507\n",
      "silhouette_score(scaled_cereals, labels): 0.292608536591621\n",
      "silhouette_score(scaled_cereals, labels): 0.3006272555499242\n",
      "silhouette_score(scaled_cereals, labels): 0.3144268815290721\n",
      "silhouette_score(scaled_cereals, labels): 0.26681952502197026\n",
      "silhouette_score(scaled_cereals, labels): 0.2867834840131613\n",
      "silhouette_score(scaled_cereals, labels): 0.3191244628132775\n",
      "silhouette_score(scaled_cereals, labels): 0.30315722519847543\n",
      "silhouette_score(scaled_cereals, labels): 0.3120528411876249\n",
      "silhouette_score(scaled_cereals, labels): 0.3285853178626663\n",
      "silhouette_score(scaled_cereals, labels): 0.3254449337634043\n",
      "silhouette_score(scaled_cereals, labels): 0.31936692770977276\n",
      "silhouette_score(scaled_cereals, labels): 0.3042807748534382\n",
      "silhouette_score(scaled_cereals, labels): 0.2998441107973061\n",
      "silhouette_score(scaled_cereals, labels): 0.281492036676644\n"
     ]
    }
   ],
   "source": [
    "pd.options.display.html.table_schema = True\n",
    "wss= {}\n",
    "for k in range(2, 21):\n",
    "    kmeans_loop = KMeans(n_clusters=k,n_init=30,n_jobs=-1,random_state=1000,verbose=0).fit(scaled_cereals)\n",
    "    clusters = kmeans_loop.labels_\n",
    "    labels = kmeans_loop.predict(scaled_cereals)\n",
    "    print('silhouette_score(scaled_cereals, labels):', silhouette_score(scaled_cereals, labels))\n",
    "    wss[k] = kmeans_loop.inertia_"
   ]
  },
  {
   "cell_type": "markdown",
   "metadata": {},
   "source": []
  },
  {
   "cell_type": "code",
   "execution_count": 21,
   "metadata": {},
   "outputs": [
    {
     "data": {
      "image/png": "[encoded data removed]",
      "text/plain": [
       "<Figure size 1080x576 with 1 Axes>"
      ]
     },
     "metadata": {
      "needs_background": "light"
     },
     "output_type": "display_data"
    }
   ],
   "source": [
    "plt.figure(figsize=(15,8))\n",
    "plt.plot(list(wss.keys()),list(wss.values()) ,marker='o')\n",
    "plt.grid()\n",
    "plt.xlabel('Number of clusters')\n",
    "plt.ylabel('Total within sum of squares')\n",
    "plt.show()"
   ]
  },
  {
   "cell_type": "markdown",
   "metadata": {},
   "source": []
  },
  {
   "cell_type": "code",
   "execution_count": 22,
   "metadata": {},
   "outputs": [],
   "source": [
    "best_kmeans = KMeans(n_clusters=9, random_state=1240)\n",
    "best_kmeans.fit(scaled_cereals)\n",
    "best_kmeans_labels = best_kmeans.predict(scaled_cereals)"
   ]
  },
  {
   "cell_type": "markdown",
   "metadata": {},
   "source": []
  },
  {
   "cell_type": "code",
   "execution_count": 23,
   "metadata": {},
   "outputs": [
    {
     "data": {
      "application/vnd.dataresource+json": {
       "data": [
        {
         "index": 0,
         "kmeans_cluster": 7,
         "label": "100%_Bran (3 - 68.4)"
        },
        {
         "index": 1,
         "kmeans_cluster": 1,
         "label": "100%_Natural_Bran (3 - 33.98)"
        },
        {
         "index": 2,
         "kmeans_cluster": 7,
         "label": "All-Bran (3 - 59.43)"
        },
        {
         "index": 3,
         "kmeans_cluster": 7,
         "label": "All-Bran_with_Extra_Fiber (3 - 93.7)"
        },
        {
         "index": 4,
         "kmeans_cluster": 3,
         "label": "Almond_Delight (3 - 34.38)"
        }
       ],
       "schema": {
        "fields": [
         {
          "name": "index",
          "type": "integer"
         },
         {
          "name": "label",
          "type": "string"
         },
         {
          "name": "kmeans_cluster",
          "type": "integer"
         }
        ],
        "pandas_version": "0.20.0",
        "primaryKey": [
         "index"
        ]
       }
      },
      "text/html": [
       "<div>\n",
       "<style scoped>\n",
       "    .dataframe tbody tr th:only-of-type {\n",
       "        vertical-align: middle;\n",
       "    }\n",
       "\n",
       "    .dataframe tbody tr th {\n",
       "        vertical-align: top;\n",
       "    }\n",
       "\n",
       "    .dataframe thead th {\n",
       "        text-align: right;\n",
       "    }\n",
       "</style>\n",
       "<table border=\"1\" class=\"dataframe\">\n",
       "  <thead>\n",
       "    <tr style=\"text-align: right;\">\n",
       "      <th></th>\n",
       "      <th>label</th>\n",
       "      <th>kmeans_cluster</th>\n",
       "    </tr>\n",
       "  </thead>\n",
       "  <tbody>\n",
       "    <tr>\n",
       "      <th>0</th>\n",
       "      <td>100%_Bran (3 - 68.4)</td>\n",
       "      <td>7</td>\n",
       "    </tr>\n",
       "    <tr>\n",
       "      <th>1</th>\n",
       "      <td>100%_Natural_Bran (3 - 33.98)</td>\n",
       "      <td>1</td>\n",
       "    </tr>\n",
       "    <tr>\n",
       "      <th>2</th>\n",
       "      <td>All-Bran (3 - 59.43)</td>\n",
       "      <td>7</td>\n",
       "    </tr>\n",
       "    <tr>\n",
       "      <th>3</th>\n",
       "      <td>All-Bran_with_Extra_Fiber (3 - 93.7)</td>\n",
       "      <td>7</td>\n",
       "    </tr>\n",
       "    <tr>\n",
       "      <th>4</th>\n",
       "      <td>Almond_Delight (3 - 34.38)</td>\n",
       "      <td>3</td>\n",
       "    </tr>\n",
       "  </tbody>\n",
       "</table>\n",
       "</div>"
      ],
      "text/plain": [
       "                                  label  kmeans_cluster\n",
       "0                  100%_Bran (3 - 68.4)               7\n",
       "1         100%_Natural_Bran (3 - 33.98)               1\n",
       "2                  All-Bran (3 - 59.43)               7\n",
       "3  All-Bran_with_Extra_Fiber (3 - 93.7)               7\n",
       "4            Almond_Delight (3 - 34.38)               3"
      ]
     },
     "execution_count": 23,
     "metadata": {},
     "output_type": "execute_result"
    }
   ],
   "source": [
    "kmeans_results = pd.DataFrame({\"label\":cereal_label,\"kmeans_cluster\":best_kmeans_labels})\n",
    "kmeans_results.head()"
   ]
  },
  {
   "cell_type": "markdown",
   "metadata": {},
   "source": []
  },
  {
   "cell_type": "code",
   "execution_count": 24,
   "metadata": {},
   "outputs": [
    {
     "data": {
      "application/vnd.dataresource+json": {
       "data": [
        {
         "calories": 70,
         "carbo": 5,
         "cups": 0.33,
         "fat": 1,
         "fiber": 10,
         "index": 0,
         "kmeans_cluster": 7,
         "label": "100%_Bran (3 - 68.4)",
         "potass": 280,
         "protein": 4,
         "sodium": 130,
         "sugars": 6,
         "vitamins": 25,
         "weight": 1
        },
        {
         "calories": 120,
         "carbo": 8,
         "cups": 1,
         "fat": 5,
         "fiber": 2,
         "index": 1,
         "kmeans_cluster": 1,
         "label": "100%_Natural_Bran (3 - 33.98)",
         "potass": 135,
         "protein": 3,
         "sodium": 15,
         "sugars": 8,
         "vitamins": 0,
         "weight": 1
        },
        {
         "calories": 70,
         "carbo": 7,
         "cups": 0.33,
         "fat": 1,
         "fiber": 9,
         "index": 2,
         "kmeans_cluster": 7,
         "label": "All-Bran (3 - 59.43)",
         "potass": 320,
         "protein": 4,
         "sodium": 260,
         "sugars": 5,
         "vitamins": 25,
         "weight": 1
        },
        {
         "calories": 50,
         "carbo": 8,
         "cups": 0.5,
         "fat": 0,
         "fiber": 14,
         "index": 3,
         "kmeans_cluster": 7,
         "label": "All-Bran_with_Extra_Fiber (3 - 93.7)",
         "potass": 330,
         "protein": 4,
         "sodium": 140,
         "sugars": 0,
         "vitamins": 25,
         "weight": 1
        },
        {
         "calories": 110,
         "carbo": 14,
         "cups": 0.75,
         "fat": 2,
         "fiber": 1,
         "index": 4,
         "kmeans_cluster": 3,
         "label": "Almond_Delight (3 - 34.38)",
         "potass": null,
         "protein": 2,
         "sodium": 200,
         "sugars": 8,
         "vitamins": 25,
         "weight": 1
        },
        {
         "calories": 110,
         "carbo": 10.5,
         "cups": 0.75,
         "fat": 2,
         "fiber": 1.5,
         "index": 5,
         "kmeans_cluster": 3,
         "label": "Apple_Cinnamon_Cheerios (1 - 29.51)",
         "potass": 70,
         "protein": 2,
         "sodium": 180,
         "sugars": 10,
         "vitamins": 25,
         "weight": 1
        },
        {
         "calories": 110,
         "carbo": 11,
         "cups": 1,
         "fat": 0,
         "fiber": 1,
         "index": 6,
         "kmeans_cluster": 3,
         "label": "Apple_Jacks (2 - 33.17)",
         "potass": 30,
         "protein": 2,
         "sodium": 125,
         "sugars": 14,
         "vitamins": 25,
         "weight": 1
        },
        {
         "calories": 130,
         "carbo": 18,
         "cups": 0.75,
         "fat": 2,
         "fiber": 2,
         "index": 7,
         "kmeans_cluster": 0,
         "label": "Basic_4 (3 - 37.04)",
         "potass": 100,
         "protein": 3,
         "sodium": 210,
         "sugars": 8,
         "vitamins": 25,
         "weight": 1.33
        },
        {
         "calories": 90,
         "carbo": 15,
         "cups": 0.67,
         "fat": 1,
         "fiber": 4,
         "index": 8,
         "kmeans_cluster": 6,
         "label": "Bran_Chex (1 - 49.12)",
         "potass": 125,
         "protein": 2,
         "sodium": 200,
         "sugars": 6,
         "vitamins": 25,
         "weight": 1
        },
        {
         "calories": 90,
         "carbo": 13,
         "cups": 0.67,
         "fat": 0,
         "fiber": 5,
         "index": 9,
         "kmeans_cluster": 6,
         "label": "Bran_Flakes (3 - 53.31)",
         "potass": 190,
         "protein": 3,
         "sodium": 210,
         "sugars": 5,
         "vitamins": 25,
         "weight": 1
        }
       ],
       "schema": {
        "fields": [
         {
          "name": "index",
          "type": "integer"
         },
         {
          "name": "calories",
          "type": "integer"
         },
         {
          "name": "protein",
          "type": "integer"
         },
         {
          "name": "fat",
          "type": "integer"
         },
         {
          "name": "sodium",
          "type": "integer"
         },
         {
          "name": "fiber",
          "type": "number"
         },
         {
          "name": "carbo",
          "type": "number"
         },
         {
          "name": "sugars",
          "type": "number"
         },
         {
          "name": "potass",
          "type": "number"
         },
         {
          "name": "vitamins",
          "type": "integer"
         },
         {
          "name": "weight",
          "type": "number"
         },
         {
          "name": "cups",
          "type": "number"
         },
         {
          "name": "label",
          "type": "string"
         },
         {
          "name": "kmeans_cluster",
          "type": "integer"
         }
        ],
        "pandas_version": "0.20.0",
        "primaryKey": [
         "index"
        ]
       }
      },
      "text/html": [
       "<div>\n",
       "<style scoped>\n",
       "    .dataframe tbody tr th:only-of-type {\n",
       "        vertical-align: middle;\n",
       "    }\n",
       "\n",
       "    .dataframe tbody tr th {\n",
       "        vertical-align: top;\n",
       "    }\n",
       "\n",
       "    .dataframe thead th {\n",
       "        text-align: right;\n",
       "    }\n",
       "</style>\n",
       "<table border=\"1\" class=\"dataframe\">\n",
       "  <thead>\n",
       "    <tr style=\"text-align: right;\">\n",
       "      <th></th>\n",
       "      <th>calories</th>\n",
       "      <th>protein</th>\n",
       "      <th>fat</th>\n",
       "      <th>sodium</th>\n",
       "      <th>fiber</th>\n",
       "      <th>carbo</th>\n",
       "      <th>sugars</th>\n",
       "      <th>potass</th>\n",
       "      <th>vitamins</th>\n",
       "      <th>weight</th>\n",
       "      <th>cups</th>\n",
       "      <th>label</th>\n",
       "      <th>kmeans_cluster</th>\n",
       "    </tr>\n",
       "  </thead>\n",
       "  <tbody>\n",
       "    <tr>\n",
       "      <th>0</th>\n",
       "      <td>70</td>\n",
       "      <td>4</td>\n",
       "      <td>1</td>\n",
       "      <td>130</td>\n",
       "      <td>10.0</td>\n",
       "      <td>5.0</td>\n",
       "      <td>6.0</td>\n",
       "      <td>280.0</td>\n",
       "      <td>25</td>\n",
       "      <td>1.00</td>\n",
       "      <td>0.33</td>\n",
       "      <td>100%_Bran (3 - 68.4)</td>\n",
       "      <td>7</td>\n",
       "    </tr>\n",
       "    <tr>\n",
       "      <th>1</th>\n",
       "      <td>120</td>\n",
       "      <td>3</td>\n",
       "      <td>5</td>\n",
       "      <td>15</td>\n",
       "      <td>2.0</td>\n",
       "      <td>8.0</td>\n",
       "      <td>8.0</td>\n",
       "      <td>135.0</td>\n",
       "      <td>0</td>\n",
       "      <td>1.00</td>\n",
       "      <td>1.00</td>\n",
       "      <td>100%_Natural_Bran (3 - 33.98)</td>\n",
       "      <td>1</td>\n",
       "    </tr>\n",
       "    <tr>\n",
       "      <th>2</th>\n",
       "      <td>70</td>\n",
       "      <td>4</td>\n",
       "      <td>1</td>\n",
       "      <td>260</td>\n",
       "      <td>9.0</td>\n",
       "      <td>7.0</td>\n",
       "      <td>5.0</td>\n",
       "      <td>320.0</td>\n",
       "      <td>25</td>\n",
       "      <td>1.00</td>\n",
       "      <td>0.33</td>\n",
       "      <td>All-Bran (3 - 59.43)</td>\n",
       "      <td>7</td>\n",
       "    </tr>\n",
       "    <tr>\n",
       "      <th>3</th>\n",
       "      <td>50</td>\n",
       "      <td>4</td>\n",
       "      <td>0</td>\n",
       "      <td>140</td>\n",
       "      <td>14.0</td>\n",
       "      <td>8.0</td>\n",
       "      <td>0.0</td>\n",
       "      <td>330.0</td>\n",
       "      <td>25</td>\n",
       "      <td>1.00</td>\n",
       "      <td>0.50</td>\n",
       "      <td>All-Bran_with_Extra_Fiber (3 - 93.7)</td>\n",
       "      <td>7</td>\n",
       "    </tr>\n",
       "    <tr>\n",
       "      <th>4</th>\n",
       "      <td>110</td>\n",
       "      <td>2</td>\n",
       "      <td>2</td>\n",
       "      <td>200</td>\n",
       "      <td>1.0</td>\n",
       "      <td>14.0</td>\n",
       "      <td>8.0</td>\n",
       "      <td>NaN</td>\n",
       "      <td>25</td>\n",
       "      <td>1.00</td>\n",
       "      <td>0.75</td>\n",
       "      <td>Almond_Delight (3 - 34.38)</td>\n",
       "      <td>3</td>\n",
       "    </tr>\n",
       "    <tr>\n",
       "      <th>5</th>\n",
       "      <td>110</td>\n",
       "      <td>2</td>\n",
       "      <td>2</td>\n",
       "      <td>180</td>\n",
       "      <td>1.5</td>\n",
       "      <td>10.5</td>\n",
       "      <td>10.0</td>\n",
       "      <td>70.0</td>\n",
       "      <td>25</td>\n",
       "      <td>1.00</td>\n",
       "      <td>0.75</td>\n",
       "      <td>Apple_Cinnamon_Cheerios (1 - 29.51)</td>\n",
       "      <td>3</td>\n",
       "    </tr>\n",
       "    <tr>\n",
       "      <th>6</th>\n",
       "      <td>110</td>\n",
       "      <td>2</td>\n",
       "      <td>0</td>\n",
       "      <td>125</td>\n",
       "      <td>1.0</td>\n",
       "      <td>11.0</td>\n",
       "      <td>14.0</td>\n",
       "      <td>30.0</td>\n",
       "      <td>25</td>\n",
       "      <td>1.00</td>\n",
       "      <td>1.00</td>\n",
       "      <td>Apple_Jacks (2 - 33.17)</td>\n",
       "      <td>3</td>\n",
       "    </tr>\n",
       "    <tr>\n",
       "      <th>7</th>\n",
       "      <td>130</td>\n",
       "      <td>3</td>\n",
       "      <td>2</td>\n",
       "      <td>210</td>\n",
       "      <td>2.0</td>\n",
       "      <td>18.0</td>\n",
       "      <td>8.0</td>\n",
       "      <td>100.0</td>\n",
       "      <td>25</td>\n",
       "      <td>1.33</td>\n",
       "      <td>0.75</td>\n",
       "      <td>Basic_4 (3 - 37.04)</td>\n",
       "      <td>0</td>\n",
       "    </tr>\n",
       "    <tr>\n",
       "      <th>8</th>\n",
       "      <td>90</td>\n",
       "      <td>2</td>\n",
       "      <td>1</td>\n",
       "      <td>200</td>\n",
       "      <td>4.0</td>\n",
       "      <td>15.0</td>\n",
       "      <td>6.0</td>\n",
       "      <td>125.0</td>\n",
       "      <td>25</td>\n",
       "      <td>1.00</td>\n",
       "      <td>0.67</td>\n",
       "      <td>Bran_Chex (1 - 49.12)</td>\n",
       "      <td>6</td>\n",
       "    </tr>\n",
       "    <tr>\n",
       "      <th>9</th>\n",
       "      <td>90</td>\n",
       "      <td>3</td>\n",
       "      <td>0</td>\n",
       "      <td>210</td>\n",
       "      <td>5.0</td>\n",
       "      <td>13.0</td>\n",
       "      <td>5.0</td>\n",
       "      <td>190.0</td>\n",
       "      <td>25</td>\n",
       "      <td>1.00</td>\n",
       "      <td>0.67</td>\n",
       "      <td>Bran_Flakes (3 - 53.31)</td>\n",
       "      <td>6</td>\n",
       "    </tr>\n",
       "  </tbody>\n",
       "</table>\n",
       "</div>"
      ],
      "text/plain": [
       "   calories  protein  fat  sodium  fiber  carbo  sugars  potass  vitamins  \\\n",
       "0        70        4    1     130   10.0    5.0     6.0   280.0        25   \n",
       "1       120        3    5      15    2.0    8.0     8.0   135.0         0   \n",
       "2        70        4    1     260    9.0    7.0     5.0   320.0        25   \n",
       "3        50        4    0     140   14.0    8.0     0.0   330.0        25   \n",
       "4       110        2    2     200    1.0   14.0     8.0     NaN        25   \n",
       "5       110        2    2     180    1.5   10.5    10.0    70.0        25   \n",
       "6       110        2    0     125    1.0   11.0    14.0    30.0        25   \n",
       "7       130        3    2     210    2.0   18.0     8.0   100.0        25   \n",
       "8        90        2    1     200    4.0   15.0     6.0   125.0        25   \n",
       "9        90        3    0     210    5.0   13.0     5.0   190.0        25   \n",
       "\n",
       "   weight  cups                                 label  kmeans_cluster  \n",
       "0    1.00  0.33                  100%_Bran (3 - 68.4)               7  \n",
       "1    1.00  1.00         100%_Natural_Bran (3 - 33.98)               1  \n",
       "2    1.00  0.33                  All-Bran (3 - 59.43)               7  \n",
       "3    1.00  0.50  All-Bran_with_Extra_Fiber (3 - 93.7)               7  \n",
       "4    1.00  0.75            Almond_Delight (3 - 34.38)               3  \n",
       "5    1.00  0.75   Apple_Cinnamon_Cheerios (1 - 29.51)               3  \n",
       "6    1.00  1.00               Apple_Jacks (2 - 33.17)               3  \n",
       "7    1.33  0.75                   Basic_4 (3 - 37.04)               0  \n",
       "8    1.00  0.67                 Bran_Chex (1 - 49.12)               6  \n",
       "9    1.00  0.67               Bran_Flakes (3 - 53.31)               6  "
      ]
     },
     "execution_count": 24,
     "metadata": {},
     "output_type": "execute_result"
    }
   ],
   "source": [
    "cereals = pd.read_csv(\"input/Cereals.csv\")\n",
    "cereals['label'] = cereals['name']+ ' (' +cereals['shelf'].astype(str) + \" - \" + round(cereals['rating'],2).astype(str) + ')'\n",
    "cereals.drop(['name','shelf','rating'], axis=1, inplace=True)\n",
    "final_cluster_data = pd.merge(cereals, kmeans_results, on='label')\n",
    "final_cluster_data.head(10)"
   ]
  },
  {
   "cell_type": "markdown",
   "metadata": {},
   "source": []
  },
  {
   "cell_type": "code",
   "execution_count": 25,
   "metadata": {},
   "outputs": [
    {
     "data": {
      "application/vnd.dataresource+json": {
       "data": [
        {
         "index": 3,
         "kmeans_cluster": 21
        },
        {
         "index": 6,
         "kmeans_cluster": 13
        },
        {
         "index": 1,
         "kmeans_cluster": 9
        },
        {
         "index": 0,
         "kmeans_cluster": 9
        },
        {
         "index": 4,
         "kmeans_cluster": 8
        },
        {
         "index": 2,
         "kmeans_cluster": 7
        },
        {
         "index": 5,
         "kmeans_cluster": 5
        },
        {
         "index": 7,
         "kmeans_cluster": 3
        },
        {
         "index": 8,
         "kmeans_cluster": 2
        }
       ],
       "schema": {
        "fields": [
         {
          "name": "index",
          "type": "integer"
         },
         {
          "name": "kmeans_cluster",
          "type": "integer"
         }
        ],
        "pandas_version": "0.20.0",
        "primaryKey": [
         "index"
        ]
       }
      },
      "text/plain": [
       "3    21\n",
       "6    13\n",
       "1     9\n",
       "0     9\n",
       "4     8\n",
       "2     7\n",
       "5     5\n",
       "7     3\n",
       "8     2\n",
       "Name: kmeans_cluster, dtype: int64"
      ]
     },
     "execution_count": 25,
     "metadata": {},
     "output_type": "execute_result"
    }
   ],
   "source": [
    "final_cluster_data.kmeans_cluster.value_counts()"
   ]
  },
  {
   "cell_type": "markdown",
   "metadata": {},
   "source": []
  },
  {
   "cell_type": "code",
   "execution_count": 26,
   "metadata": {},
   "outputs": [
    {
     "name": "stdout",
     "output_type": "stream",
     "text": [
      "   kmeans_cluster    calories   protein       fat      sodium      fiber  \\\n",
      "0               0  131.111111  3.000000  1.444444  194.444444   3.833333   \n",
      "1               1  117.777778  3.555556  2.777778  100.555556   2.688889   \n",
      "2               2  108.571429  1.857143  0.285714  261.428571   0.285714   \n",
      "3               3  110.952381  1.476190  1.047619  166.190476   0.547619   \n",
      "4               4   92.500000  2.750000  0.125000   11.875000   2.375000   \n",
      "5               5  112.000000  2.600000  0.800000  212.000000   1.400000   \n",
      "6               6  100.769231  3.307692  0.692308  202.692308   2.576923   \n",
      "7               7   63.333333  4.000000  0.666667  176.666667  11.000000   \n",
      "8               8   50.000000  1.500000  0.000000    0.000000   0.500000   \n",
      "\n",
      "       carbo     sugars      potass    vitamins   weight      cups  \n",
      "0  15.055556  11.111111  181.111111   33.333333  1.35000  0.705556  \n",
      "1  12.312500   7.750000  131.666667   19.444444  1.00000  0.685556  \n",
      "2  21.571429   2.714286   36.428571   25.000000  1.00000  1.054286  \n",
      "3  12.547619  11.380952   45.250000   25.000000  1.00000  0.875238  \n",
      "4  17.000000   2.625000  107.142857   12.500000  0.97875  0.830000  \n",
      "5  18.800000   4.800000   69.000000  100.000000  1.06000  0.950000  \n",
      "6  15.653846   4.461538  102.692308   25.000000  1.00000  0.799231  \n",
      "7   6.666667   3.666667  310.000000   25.000000  1.00000  0.386667  \n",
      "8  11.500000   0.000000   32.500000    0.000000  0.50000  1.000000  \n"
     ]
    }
   ],
   "source": [
    "analysis = final_cluster_data.groupby(['kmeans_cluster']).mean().reset_index()\n",
    "print(analysis)"
   ]
  },
  {
   "cell_type": "markdown",
   "metadata": {},
   "source": []
  },
  {
   "cell_type": "code",
   "execution_count": 27,
   "metadata": {},
   "outputs": [],
   "source": [
    "linkage_matrix = linkage(scaled_cereals, method='ward',metric='euclidean')"
   ]
  },
  {
   "cell_type": "markdown",
   "metadata": {},
   "source": []
  },
  {
   "cell_type": "code",
   "execution_count": 28,
   "metadata": {},
   "outputs": [
    {
     "data": {
      "text/plain": [
       "{'icoord': [[15.0, 15.0, 25.0, 25.0],\n",
       "  [5.0, 5.0, 20.0, 20.0],\n",
       "  [35.0, 35.0, 45.0, 45.0],\n",
       "  [55.0, 55.0, 65.0, 65.0],\n",
       "  [85.0, 85.0, 95.0, 95.0],\n",
       "  [75.0, 75.0, 90.0, 90.0],\n",
       "  [125.0, 125.0, 135.0, 135.0],\n",
       "  [115.0, 115.0, 130.0, 130.0],\n",
       "  [105.0, 105.0, 122.5, 122.5],\n",
       "  [82.5, 82.5, 113.75, 113.75],\n",
       "  [60.0, 60.0, 98.125, 98.125],\n",
       "  [145.0, 145.0, 155.0, 155.0],\n",
       "  [165.0, 165.0, 175.0, 175.0],\n",
       "  [205.0, 205.0, 215.0, 215.0],\n",
       "  [195.0, 195.0, 210.0, 210.0],\n",
       "  [185.0, 185.0, 202.5, 202.5],\n",
       "  [170.0, 170.0, 193.75, 193.75],\n",
       "  [245.0, 245.0, 255.0, 255.0],\n",
       "  [235.0, 235.0, 250.0, 250.0],\n",
       "  [225.0, 225.0, 242.5, 242.5],\n",
       "  [285.0, 285.0, 295.0, 295.0],\n",
       "  [275.0, 275.0, 290.0, 290.0],\n",
       "  [265.0, 265.0, 282.5, 282.5],\n",
       "  [233.75, 233.75, 273.75, 273.75],\n",
       "  [181.875, 181.875, 253.75, 253.75],\n",
       "  [150.0, 150.0, 217.8125, 217.8125],\n",
       "  [79.0625, 79.0625, 183.90625, 183.90625],\n",
       "  [40.0, 40.0, 131.484375, 131.484375],\n",
       "  [12.5, 12.5, 85.7421875, 85.7421875],\n",
       "  [315.0, 315.0, 325.0, 325.0],\n",
       "  [305.0, 305.0, 320.0, 320.0],\n",
       "  [335.0, 335.0, 345.0, 345.0],\n",
       "  [365.0, 365.0, 375.0, 375.0],\n",
       "  [355.0, 355.0, 370.0, 370.0],\n",
       "  [385.0, 385.0, 395.0, 395.0],\n",
       "  [415.0, 415.0, 425.0, 425.0],\n",
       "  [405.0, 405.0, 420.0, 420.0],\n",
       "  [390.0, 390.0, 412.5, 412.5],\n",
       "  [362.5, 362.5, 401.25, 401.25],\n",
       "  [340.0, 340.0, 381.875, 381.875],\n",
       "  [312.5, 312.5, 360.9375, 360.9375],\n",
       "  [435.0, 435.0, 445.0, 445.0],\n",
       "  [455.0, 455.0, 465.0, 465.0],\n",
       "  [440.0, 440.0, 460.0, 460.0],\n",
       "  [495.0, 495.0, 505.0, 505.0],\n",
       "  [485.0, 485.0, 500.0, 500.0],\n",
       "  [515.0, 515.0, 525.0, 525.0],\n",
       "  [492.5, 492.5, 520.0, 520.0],\n",
       "  [475.0, 475.0, 506.25, 506.25],\n",
       "  [450.0, 450.0, 490.625, 490.625],\n",
       "  [545.0, 545.0, 555.0, 555.0],\n",
       "  [535.0, 535.0, 550.0, 550.0],\n",
       "  [585.0, 585.0, 595.0, 595.0],\n",
       "  [575.0, 575.0, 590.0, 590.0],\n",
       "  [565.0, 565.0, 582.5, 582.5],\n",
       "  [605.0, 605.0, 615.0, 615.0],\n",
       "  [635.0, 635.0, 645.0, 645.0],\n",
       "  [625.0, 625.0, 640.0, 640.0],\n",
       "  [610.0, 610.0, 632.5, 632.5],\n",
       "  [573.75, 573.75, 621.25, 621.25],\n",
       "  [542.5, 542.5, 597.5, 597.5],\n",
       "  [470.3125, 470.3125, 570.0, 570.0],\n",
       "  [675.0, 675.0, 685.0, 685.0],\n",
       "  [665.0, 665.0, 680.0, 680.0],\n",
       "  [655.0, 655.0, 672.5, 672.5],\n",
       "  [735.0, 735.0, 745.0, 745.0],\n",
       "  [725.0, 725.0, 740.0, 740.0],\n",
       "  [715.0, 715.0, 732.5, 732.5],\n",
       "  [705.0, 705.0, 723.75, 723.75],\n",
       "  [755.0, 755.0, 765.0, 765.0],\n",
       "  [714.375, 714.375, 760.0, 760.0],\n",
       "  [695.0, 695.0, 737.1875, 737.1875],\n",
       "  [663.75, 663.75, 716.09375, 716.09375],\n",
       "  [520.15625, 520.15625, 689.921875, 689.921875],\n",
       "  [336.71875, 336.71875, 605.0390625, 605.0390625],\n",
       "  [49.12109375, 49.12109375, 470.87890625, 470.87890625]],\n",
       " 'dcoord': [[0.0, 1.8091626270394818, 1.8091626270394818, 0.0],\n",
       "  [0.0, 3.412515515956372, 3.412515515956372, 1.8091626270394818],\n",
       "  [0.0, 1.3733164277444303, 1.3733164277444303, 0.0],\n",
       "  [0.0, 2.7318920782760805, 2.7318920782760805, 0.0],\n",
       "  [0.0, 1.4816779711265795, 1.4816779711265795, 0.0],\n",
       "  [0.0, 2.166967045038603, 2.166967045038603, 1.4816779711265795],\n",
       "  [0.0, 0.5740734779644272, 0.5740734779644272, 0.0],\n",
       "  [0.0, 2.503044353870075, 2.503044353870075, 0.5740734779644272],\n",
       "  [0.0, 2.695320646880206, 2.695320646880206, 2.503044353870075],\n",
       "  [2.166967045038603, 4.088325703942833, 4.088325703942833, 2.695320646880206],\n",
       "  [2.7318920782760805,\n",
       "   4.506153383509654,\n",
       "   4.506153383509654,\n",
       "   4.088325703942833],\n",
       "  [0.0, 2.583295906765887, 2.583295906765887, 0.0],\n",
       "  [0.0, 1.3745810958008549, 1.3745810958008549, 0.0],\n",
       "  [0.0, 1.0209892823878386, 1.0209892823878386, 0.0],\n",
       "  [0.0, 1.684278720909095, 1.684278720909095, 1.0209892823878386],\n",
       "  [0.0, 2.1743241486960287, 2.1743241486960287, 1.684278720909095],\n",
       "  [1.3745810958008549,\n",
       "   2.762911578596661,\n",
       "   2.762911578596661,\n",
       "   2.1743241486960287],\n",
       "  [0.0, 1.1843731418746517, 1.1843731418746517, 0.0],\n",
       "  [0.0, 1.5251981754124009, 1.5251981754124009, 1.1843731418746517],\n",
       "  [0.0, 1.8177972201471486, 1.8177972201471486, 1.5251981754124009],\n",
       "  [0.0, 1.480610493574419, 1.480610493574419, 0.0],\n",
       "  [0.0, 2.1071859725118607, 2.1071859725118607, 1.480610493574419],\n",
       "  [0.0, 3.0108922130528075, 3.0108922130528075, 2.1071859725118607],\n",
       "  [1.8177972201471486,\n",
       "   3.8387851864739337,\n",
       "   3.8387851864739337,\n",
       "   3.0108922130528075],\n",
       "  [2.762911578596661,\n",
       "   6.471097540229801,\n",
       "   6.471097540229801,\n",
       "   3.8387851864739337],\n",
       "  [2.583295906765887, 7.201435178476971, 7.201435178476971, 6.471097540229801],\n",
       "  [4.506153383509654, 8.512472364291686, 8.512472364291686, 7.201435178476971],\n",
       "  [1.3733164277444303,\n",
       "   10.306989066985112,\n",
       "   10.306989066985112,\n",
       "   8.512472364291686],\n",
       "  [3.412515515956372,\n",
       "   13.474768021153128,\n",
       "   13.474768021153128,\n",
       "   10.306989066985112],\n",
       "  [0.0, 0.6603738981921342, 0.6603738981921342, 0.0],\n",
       "  [0.0, 4.531899140557499, 4.531899140557499, 0.6603738981921342],\n",
       "  [0.0, 3.2519471487798346, 3.2519471487798346, 0.0],\n",
       "  [0.0, 1.1026667296433432, 1.1026667296433432, 0.0],\n",
       "  [0.0, 1.7172584048375124, 1.7172584048375124, 1.1026667296433432],\n",
       "  [0.0, 2.1216573675412285, 2.1216573675412285, 0.0],\n",
       "  [0.0, 1.194592292078893, 1.194592292078893, 0.0],\n",
       "  [0.0, 2.854207323253137, 2.854207323253137, 1.194592292078893],\n",
       "  [2.1216573675412285,\n",
       "   3.361867526578605,\n",
       "   3.361867526578605,\n",
       "   2.854207323253137],\n",
       "  [1.7172584048375124,\n",
       "   4.970938713262706,\n",
       "   4.970938713262706,\n",
       "   3.361867526578605],\n",
       "  [3.2519471487798346,\n",
       "   6.585662054924772,\n",
       "   6.585662054924772,\n",
       "   4.970938713262706],\n",
       "  [4.531899140557499, 8.560302142524758, 8.560302142524758, 6.585662054924772],\n",
       "  [0.0, 1.2353454677291853, 1.2353454677291853, 0.0],\n",
       "  [0.0, 1.4562483259062795, 1.4562483259062795, 0.0],\n",
       "  [1.2353454677291853,\n",
       "   2.0512282614093422,\n",
       "   2.0512282614093422,\n",
       "   1.4562483259062795],\n",
       "  [0.0, 0.14487426168603323, 0.14487426168603323, 0.0],\n",
       "  [0.0, 0.9007893009685263, 0.9007893009685263, 0.14487426168603323],\n",
       "  [0.0, 0.9308205182709267, 0.9308205182709267, 0.0],\n",
       "  [0.9007893009685263,\n",
       "   1.5290471100144718,\n",
       "   1.5290471100144718,\n",
       "   0.9308205182709267],\n",
       "  [0.0, 2.4709472980966734, 2.4709472980966734, 1.5290471100144718],\n",
       "  [2.0512282614093422,\n",
       "   3.2715696363711966,\n",
       "   3.2715696363711966,\n",
       "   2.4709472980966734],\n",
       "  [0.0, 1.1925342610138074, 1.1925342610138074, 0.0],\n",
       "  [0.0, 1.5312989720780967, 1.5312989720780967, 1.1925342610138074],\n",
       "  [0.0, 1.1457309289918658, 1.1457309289918658, 0.0],\n",
       "  [0.0, 1.6944626375217218, 1.6944626375217218, 1.1457309289918658],\n",
       "  [0.0, 1.8191640267758322, 1.8191640267758322, 1.6944626375217218],\n",
       "  [0.0, 1.381453192193137, 1.381453192193137, 0.0],\n",
       "  [0.0, 0.8855141252082129, 0.8855141252082129, 0.0],\n",
       "  [0.0, 1.6587452433828822, 1.6587452433828822, 0.8855141252082129],\n",
       "  [1.381453192193137,\n",
       "   2.131605162075616,\n",
       "   2.131605162075616,\n",
       "   1.6587452433828822],\n",
       "  [1.8191640267758322,\n",
       "   3.3910341108775586,\n",
       "   3.3910341108775586,\n",
       "   2.131605162075616],\n",
       "  [1.5312989720780967,\n",
       "   3.5267857800645834,\n",
       "   3.5267857800645834,\n",
       "   3.3910341108775586],\n",
       "  [3.2715696363711966,\n",
       "   5.857005722652603,\n",
       "   5.857005722652603,\n",
       "   3.5267857800645834],\n",
       "  [0.0, 1.4132116976325342, 1.4132116976325342, 0.0],\n",
       "  [0.0, 2.252388936133019, 2.252388936133019, 1.4132116976325342],\n",
       "  [0.0, 2.5653820523316253, 2.5653820523316253, 2.252388936133019],\n",
       "  [0.0, 0.18816182364664483, 0.18816182364664483, 0.0],\n",
       "  [0.0, 0.8755079653125968, 0.8755079653125968, 0.18816182364664483],\n",
       "  [0.0, 1.085865867518513, 1.085865867518513, 0.8755079653125968],\n",
       "  [0.0, 1.5667764703005342, 1.5667764703005342, 1.085865867518513],\n",
       "  [0.0, 1.6934471445144768, 1.6934471445144768, 0.0],\n",
       "  [1.5667764703005342,\n",
       "   2.825280150394666,\n",
       "   2.825280150394666,\n",
       "   1.6934471445144768],\n",
       "  [0.0, 3.3824302103052855, 3.3824302103052855, 2.825280150394666],\n",
       "  [2.5653820523316253,\n",
       "   8.284121266099676,\n",
       "   8.284121266099676,\n",
       "   3.3824302103052855],\n",
       "  [5.857005722652603,\n",
       "   12.838423522972697,\n",
       "   12.838423522972697,\n",
       "   8.284121266099676],\n",
       "  [8.560302142524758,\n",
       "   15.536728576922478,\n",
       "   15.536728576922478,\n",
       "   12.838423522972697],\n",
       "  [13.474768021153128,\n",
       "   16.42646196176448,\n",
       "   16.42646196176448,\n",
       "   15.536728576922478]],\n",
       " 'ivl': ['All-Bran_with_Extra_Fiber (3 - 93.7)',\n",
       "  '100%_Bran (3 - 68.4)',\n",
       "  'All-Bran (3 - 59.43)',\n",
       "  'Puffed_Rice (3 - 60.76)',\n",
       "  'Puffed_Wheat (3 - 63.01)',\n",
       "  'Maypo (2 - 54.85)',\n",
       "  'Quaker_Oatmeal (1 - 50.83)',\n",
       "  'Raisin_Squares (3 - 55.33)',\n",
       "  'Frosted_Mini-Wheats (2 - 58.35)',\n",
       "  'Strawberry_Fruit_Wheats (2 - 59.36)',\n",
       "  'Shredded_Wheat (1 - 68.24)',\n",
       "  'Cream_of_Wheat_(Quick) (2 - 64.53)',\n",
       "  \"Shredded_Wheat_'n'Bran (1 - 74.47)\",\n",
       "  'Shredded_Wheat_spoon_size (1 - 72.8)',\n",
       "  'Cheerios (1 - 50.76)',\n",
       "  'Special_K (1 - 53.13)',\n",
       "  'Life (2 - 45.33)',\n",
       "  'Quaker_Oat_Squares (3 - 49.51)',\n",
       "  'Great_Grains_Pecan (3 - 45.81)',\n",
       "  \"Cracklin'_Oat_Bran (3 - 40.45)\",\n",
       "  'Clusters (3 - 40.4)',\n",
       "  'Raisin_Nut_Bran (3 - 39.7)',\n",
       "  'Nutri-grain_Wheat (3 - 59.64)',\n",
       "  'Multi-Grain_Cheerios (1 - 40.11)',\n",
       "  'Grape_Nuts_Flakes (3 - 52.08)',\n",
       "  'Wheaties (1 - 51.59)',\n",
       "  'Grape-Nuts (3 - 53.37)',\n",
       "  'Bran_Flakes (3 - 53.31)',\n",
       "  'Bran_Chex (1 - 49.12)',\n",
       "  'Wheat_Chex (1 - 49.79)',\n",
       "  '100%_Natural_Bran (3 - 33.98)',\n",
       "  'Muesli_Raisins,_Dates,_&_Almonds (3 - 37.14)',\n",
       "  'Muesli_Raisins,_Peaches,_&_Pecans (3 - 34.14)',\n",
       "  'Just_Right_Fruit_&_Nut (3 - 36.47)',\n",
       "  'Total_Raisin_Bran (3 - 28.59)',\n",
       "  'Fruitful_Bran (3 - 41.02)',\n",
       "  'Post_Nat._Raisin_Bran (3 - 37.84)',\n",
       "  'Raisin_Bran (2 - 39.26)',\n",
       "  'Fruit_&_Fibre_Dates,_Walnuts,_and_Oats (3 - 40.92)',\n",
       "  'Oatmeal_Raisin_Crisp (3 - 30.45)',\n",
       "  'Mueslix_Crispy_Blend (3 - 30.31)',\n",
       "  'Basic_4 (3 - 37.04)',\n",
       "  'Nutri-Grain_Almond-Raisin (3 - 40.69)',\n",
       "  'Apple_Jacks (2 - 33.17)',\n",
       "  'Corn_Pops (2 - 35.78)',\n",
       "  'Golden_Crisp (1 - 35.25)',\n",
       "  'Smacks (2 - 31.23)',\n",
       "  'Honey-comb (1 - 28.74)',\n",
       "  'Trix (2 - 27.75)',\n",
       "  'Cocoa_Puffs (2 - 22.74)',\n",
       "  'Count_Chocula (2 - 22.4)',\n",
       "  'Froot_Loops (2 - 32.21)',\n",
       "  'Lucky_Charms (2 - 26.73)',\n",
       "  'Cinnamon_Toast_Crunch (2 - 19.82)',\n",
       "  \"Cap'n'Crunch (2 - 18.04)\",\n",
       "  'Honey_Graham_Ohs (2 - 21.87)',\n",
       "  'Honey_Nut_Cheerios (1 - 31.07)',\n",
       "  'Crispy_Wheat_&_Raisins (3 - 36.18)',\n",
       "  'Almond_Delight (3 - 34.38)',\n",
       "  'Apple_Cinnamon_Cheerios (1 - 29.51)',\n",
       "  'Frosted_Flakes (1 - 31.44)',\n",
       "  'Fruity_Pebbles (2 - 28.03)',\n",
       "  'Golden_Grahams (2 - 23.8)',\n",
       "  'Nut&Honey_Crunch (2 - 29.92)',\n",
       "  'Wheaties_Honey_Gold (1 - 36.19)',\n",
       "  'Product_19 (3 - 41.5)',\n",
       "  'Total_Whole_Grain (3 - 46.66)',\n",
       "  'Just_Right_Crunchy__Nuggets (3 - 36.52)',\n",
       "  'Total_Corn_Flakes (3 - 38.84)',\n",
       "  'Kix (2 - 39.24)',\n",
       "  'Rice_Chex (1 - 42.0)',\n",
       "  'Crispix (3 - 46.9)',\n",
       "  'Corn_Flakes (1 - 45.86)',\n",
       "  'Corn_Chex (1 - 41.45)',\n",
       "  'Rice_Krispies (1 - 40.56)',\n",
       "  'Double_Chex (3 - 44.33)',\n",
       "  'Triples (3 - 39.11)'],\n",
       " 'leaves': [3,\n",
       "  0,\n",
       "  2,\n",
       "  54,\n",
       "  55,\n",
       "  43,\n",
       "  57,\n",
       "  60,\n",
       "  26,\n",
       "  68,\n",
       "  63,\n",
       "  20,\n",
       "  64,\n",
       "  65,\n",
       "  11,\n",
       "  67,\n",
       "  41,\n",
       "  56,\n",
       "  34,\n",
       "  19,\n",
       "  13,\n",
       "  59,\n",
       "  50,\n",
       "  47,\n",
       "  32,\n",
       "  75,\n",
       "  33,\n",
       "  9,\n",
       "  8,\n",
       "  74,\n",
       "  1,\n",
       "  44,\n",
       "  45,\n",
       "  39,\n",
       "  70,\n",
       "  28,\n",
       "  52,\n",
       "  58,\n",
       "  27,\n",
       "  51,\n",
       "  46,\n",
       "  7,\n",
       "  49,\n",
       "  6,\n",
       "  17,\n",
       "  30,\n",
       "  66,\n",
       "  37,\n",
       "  73,\n",
       "  14,\n",
       "  18,\n",
       "  24,\n",
       "  42,\n",
       "  12,\n",
       "  10,\n",
       "  35,\n",
       "  36,\n",
       "  22,\n",
       "  4,\n",
       "  5,\n",
       "  25,\n",
       "  29,\n",
       "  31,\n",
       "  48,\n",
       "  76,\n",
       "  53,\n",
       "  71,\n",
       "  38,\n",
       "  69,\n",
       "  40,\n",
       "  61,\n",
       "  21,\n",
       "  16,\n",
       "  15,\n",
       "  62,\n",
       "  23,\n",
       "  72],\n",
       " 'color_list': ['g',\n",
       "  'g',\n",
       "  'r',\n",
       "  'r',\n",
       "  'r',\n",
       "  'r',\n",
       "  'r',\n",
       "  'r',\n",
       "  'r',\n",
       "  'r',\n",
       "  'r',\n",
       "  'r',\n",
       "  'r',\n",
       "  'r',\n",
       "  'r',\n",
       "  'r',\n",
       "  'r',\n",
       "  'r',\n",
       "  'r',\n",
       "  'r',\n",
       "  'r',\n",
       "  'r',\n",
       "  'r',\n",
       "  'r',\n",
       "  'r',\n",
       "  'r',\n",
       "  'r',\n",
       "  'r',\n",
       "  'b',\n",
       "  'c',\n",
       "  'c',\n",
       "  'c',\n",
       "  'c',\n",
       "  'c',\n",
       "  'c',\n",
       "  'c',\n",
       "  'c',\n",
       "  'c',\n",
       "  'c',\n",
       "  'c',\n",
       "  'c',\n",
       "  'm',\n",
       "  'm',\n",
       "  'm',\n",
       "  'm',\n",
       "  'm',\n",
       "  'm',\n",
       "  'm',\n",
       "  'm',\n",
       "  'm',\n",
       "  'm',\n",
       "  'm',\n",
       "  'm',\n",
       "  'm',\n",
       "  'm',\n",
       "  'm',\n",
       "  'm',\n",
       "  'm',\n",
       "  'm',\n",
       "  'm',\n",
       "  'm',\n",
       "  'm',\n",
       "  'y',\n",
       "  'y',\n",
       "  'y',\n",
       "  'y',\n",
       "  'y',\n",
       "  'y',\n",
       "  'y',\n",
       "  'y',\n",
       "  'y',\n",
       "  'y',\n",
       "  'y',\n",
       "  'b',\n",
       "  'b',\n",
       "  'b']}"
      ]
     },
     "execution_count": 28,
     "metadata": {},
     "output_type": "execute_result"
    },
    {
     "data": {
      "image/png": "[encoded data removed]",
      "text/plain": [
       "<Figure size 432x288 with 1 Axes>"
      ]
     },
     "metadata": {
      "needs_background": "light"
     },
     "output_type": "display_data"
    }
   ],
   "source": [
    "dendrogram(linkage_matrix,labels=cereal_label.values)"
   ]
  },
  {
   "cell_type": "markdown",
   "metadata": {},
   "source": []
  },
  {
   "cell_type": "code",
   "execution_count": 29,
   "metadata": {},
   "outputs": [
    {
     "data": {
      "application/vnd.dataresource+json": {
       "data": [
        {
         "agg_cluster": 0,
         "index": 49,
         "label": "Nutri-Grain_Almond-Raisin (3 - 40.69)"
        },
        {
         "agg_cluster": 0,
         "index": 1,
         "label": "100%_Natural_Bran (3 - 33.98)"
        },
        {
         "agg_cluster": 0,
         "index": 46,
         "label": "Mueslix_Crispy_Blend (3 - 30.31)"
        },
        {
         "agg_cluster": 0,
         "index": 45,
         "label": "Muesli_Raisins,_Peaches,_&_Pecans (3 - 34.14)"
        },
        {
         "agg_cluster": 0,
         "index": 44,
         "label": "Muesli_Raisins,_Dates,_&_Almonds (3 - 37.14)"
        }
       ],
       "schema": {
        "fields": [
         {
          "name": "index",
          "type": "integer"
         },
         {
          "name": "label",
          "type": "string"
         },
         {
          "name": "agg_cluster",
          "type": "integer"
         }
        ],
        "pandas_version": "0.20.0",
        "primaryKey": [
         "index"
        ]
       }
      },
      "text/html": [
       "<div>\n",
       "<style scoped>\n",
       "    .dataframe tbody tr th:only-of-type {\n",
       "        vertical-align: middle;\n",
       "    }\n",
       "\n",
       "    .dataframe tbody tr th {\n",
       "        vertical-align: top;\n",
       "    }\n",
       "\n",
       "    .dataframe thead th {\n",
       "        text-align: right;\n",
       "    }\n",
       "</style>\n",
       "<table border=\"1\" class=\"dataframe\">\n",
       "  <thead>\n",
       "    <tr style=\"text-align: right;\">\n",
       "      <th></th>\n",
       "      <th>label</th>\n",
       "      <th>agg_cluster</th>\n",
       "    </tr>\n",
       "  </thead>\n",
       "  <tbody>\n",
       "    <tr>\n",
       "      <th>49</th>\n",
       "      <td>Nutri-Grain_Almond-Raisin (3 - 40.69)</td>\n",
       "      <td>0</td>\n",
       "    </tr>\n",
       "    <tr>\n",
       "      <th>1</th>\n",
       "      <td>100%_Natural_Bran (3 - 33.98)</td>\n",
       "      <td>0</td>\n",
       "    </tr>\n",
       "    <tr>\n",
       "      <th>46</th>\n",
       "      <td>Mueslix_Crispy_Blend (3 - 30.31)</td>\n",
       "      <td>0</td>\n",
       "    </tr>\n",
       "    <tr>\n",
       "      <th>45</th>\n",
       "      <td>Muesli_Raisins,_Peaches,_&amp;_Pecans (3 - 34.14)</td>\n",
       "      <td>0</td>\n",
       "    </tr>\n",
       "    <tr>\n",
       "      <th>44</th>\n",
       "      <td>Muesli_Raisins,_Dates,_&amp;_Almonds (3 - 37.14)</td>\n",
       "      <td>0</td>\n",
       "    </tr>\n",
       "  </tbody>\n",
       "</table>\n",
       "</div>"
      ],
      "text/plain": [
       "                                            label  agg_cluster\n",
       "49          Nutri-Grain_Almond-Raisin (3 - 40.69)            0\n",
       "1                   100%_Natural_Bran (3 - 33.98)            0\n",
       "46               Mueslix_Crispy_Blend (3 - 30.31)            0\n",
       "45  Muesli_Raisins,_Peaches,_&_Pecans (3 - 34.14)            0\n",
       "44   Muesli_Raisins,_Dates,_&_Almonds (3 - 37.14)            0"
      ]
     },
     "execution_count": 29,
     "metadata": {},
     "output_type": "execute_result"
    }
   ],
   "source": [
    "agg_clust = AgglomerativeClustering(n_clusters=6, affinity='euclidean', linkage='ward')\n",
    "agg_clusters = agg_clust.fit_predict(scaled_cereals)\n",
    "agg_result = pd.DataFrame({\"label\":cereal_label,\"agg_cluster\":agg_clusters}).sort_values('agg_cluster')\n",
    "agg_result.head()"
   ]
  },
  {
   "cell_type": "markdown",
   "metadata": {},
   "source": []
  }
 ],
 "metadata": {
  "kernelspec": {
   "display_name": "atomenvglobalconda",
   "language": "python",
   "name": "envglobalconda"
  },
  "language_info": {
   "codemirror_mode": {
    "name": "ipython",
    "version": 3
   },
   "file_extension": ".py",
   "mimetype": "text/x-python",
   "name": "python",
   "nbconvert_exporter": "python",
   "pygments_lexer": "ipython3",
   "version": "3.8.1"
  }
 },
 "nbformat": 4,
 "nbformat_minor": 2
}
